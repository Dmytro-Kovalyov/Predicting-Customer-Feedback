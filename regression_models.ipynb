{
 "cells": [
  {
   "cell_type": "code",
   "execution_count": 174,
   "id": "df9301be-bc7e-4fe4-bcde-09a54e5fd9eb",
   "metadata": {},
   "outputs": [],
   "source": [
    "import pandas as pd\n",
    "import numpy as np\n",
    "import matplotlib.pyplot as plt\n",
    "import re\n",
    "\n",
    "# spacy\n",
    "import spacy\n",
    "\n",
    "# Gensim\n",
    "import gensim\n",
    "\n",
    "# Sklearn\n",
    "from sklearn.model_selection import train_test_split\n",
    "from sklearn.ensemble import RandomForestRegressor\n",
    "from sklearn.metrics import mean_squared_error\n",
    "from sklearn.metrics import r2_score\n",
    "\n",
    "# Keras\n",
    "from tensorflow import keras\n",
    "from keras_preprocessing.sequence import pad_sequences\n",
    "from tensorflow.keras import layers\n",
    "from tensorflow.keras import metrics\n",
    "from tensorflow.keras import Model\n",
    "from keras.callbacks import EarlyStopping"
   ]
  },
  {
   "cell_type": "markdown",
   "id": "449072e5-f612-48a7-ad7c-309ae75e108a",
   "metadata": {},
   "source": [
    "# Data preparation\n",
    "\n",
    "In this section data will be loaded, cleaned and lemmatized"
   ]
  },
  {
   "cell_type": "code",
   "execution_count": 2,
   "id": "6440a017-f296-4d6c-919f-76d337bf0820",
   "metadata": {},
   "outputs": [],
   "source": [
    "# Load data\n",
    "data = pd.read_json(\"dataset_1M.json\", lines=True)"
   ]
  },
  {
   "cell_type": "code",
   "execution_count": 3,
   "id": "5bb32ffd-09d0-4349-ab3b-44dfb1706597",
   "metadata": {},
   "outputs": [
    {
     "data": {
      "text/plain": [
       "overall           1000000\n",
       "verified          1000000\n",
       "reviewTime        1000000\n",
       "reviewerID        1000000\n",
       "asin              1000000\n",
       "style              358331\n",
       "reviewerName       999917\n",
       "reviewText         999636\n",
       "summary            999862\n",
       "unixReviewTime    1000000\n",
       "vote               121947\n",
       "image               16345\n",
       "dtype: int64"
      ]
     },
     "execution_count": 3,
     "metadata": {},
     "output_type": "execute_result"
    }
   ],
   "source": [
    "data.count()"
   ]
  },
  {
   "cell_type": "code",
   "execution_count": 4,
   "id": "9b0187dd-3fb3-4aa3-9a9e-4b06bfccb589",
   "metadata": {},
   "outputs": [
    {
     "data": {
      "text/plain": [
       "overall           947137\n",
       "verified          947137\n",
       "reviewTime        947137\n",
       "reviewerID        947137\n",
       "asin              947137\n",
       "style             337257\n",
       "reviewerName      947064\n",
       "reviewText        946798\n",
       "summary           947005\n",
       "unixReviewTime    947137\n",
       "vote              111510\n",
       "image              14906\n",
       "dtype: int64"
      ]
     },
     "execution_count": 4,
     "metadata": {},
     "output_type": "execute_result"
    }
   ],
   "source": [
    "# Remove all non-verified buyers\n",
    "data = data[data.verified]\n",
    "data.count()"
   ]
  },
  {
   "cell_type": "code",
   "execution_count": 5,
   "id": "45282651-a62d-4dc5-b4e6-5f164ac23ac0",
   "metadata": {},
   "outputs": [
    {
     "data": {
      "text/plain": [
       "overall           946798\n",
       "verified          946798\n",
       "reviewTime        946798\n",
       "reviewerID        946798\n",
       "asin              946798\n",
       "style             337128\n",
       "reviewerName      946725\n",
       "reviewText        946798\n",
       "summary           946674\n",
       "unixReviewTime    946798\n",
       "vote              111487\n",
       "image              14832\n",
       "dtype: int64"
      ]
     },
     "execution_count": 5,
     "metadata": {},
     "output_type": "execute_result"
    }
   ],
   "source": [
    "# Remove all reviews without text\n",
    "data = data[data.reviewText.notna()]\n",
    "data.count()"
   ]
  },
  {
   "cell_type": "code",
   "execution_count": 6,
   "id": "d002d3cb-39db-4729-ade1-35f24013b936",
   "metadata": {},
   "outputs": [
    {
     "data": {
      "text/html": [
       "<div>\n",
       "<style scoped>\n",
       "    .dataframe tbody tr th:only-of-type {\n",
       "        vertical-align: middle;\n",
       "    }\n",
       "\n",
       "    .dataframe tbody tr th {\n",
       "        vertical-align: top;\n",
       "    }\n",
       "\n",
       "    .dataframe thead th {\n",
       "        text-align: right;\n",
       "    }\n",
       "</style>\n",
       "<table border=\"1\" class=\"dataframe\">\n",
       "  <thead>\n",
       "    <tr style=\"text-align: right;\">\n",
       "      <th></th>\n",
       "      <th>overall</th>\n",
       "      <th>reviewText</th>\n",
       "      <th>summary</th>\n",
       "    </tr>\n",
       "  </thead>\n",
       "  <tbody>\n",
       "    <tr>\n",
       "      <th>1</th>\n",
       "      <td>1</td>\n",
       "      <td>It sucks barely picks up anything definitely n...</td>\n",
       "      <td>sucks</td>\n",
       "    </tr>\n",
       "    <tr>\n",
       "      <th>2</th>\n",
       "      <td>1</td>\n",
       "      <td>Well to write a short one, it blew 2 fuses of ...</td>\n",
       "      <td>Defective</td>\n",
       "    </tr>\n",
       "    <tr>\n",
       "      <th>3</th>\n",
       "      <td>3</td>\n",
       "      <td>I have absolutely no memory of buying this but...</td>\n",
       "      <td>Looks cool! Probably works</td>\n",
       "    </tr>\n",
       "    <tr>\n",
       "      <th>4</th>\n",
       "      <td>5</td>\n",
       "      <td>it ok it does it job</td>\n",
       "      <td>Five Stars</td>\n",
       "    </tr>\n",
       "    <tr>\n",
       "      <th>5</th>\n",
       "      <td>5</td>\n",
       "      <td>Have 3 big dogs. this have been great for my F...</td>\n",
       "      <td>this have been great for my Ford transit connect</td>\n",
       "    </tr>\n",
       "  </tbody>\n",
       "</table>\n",
       "</div>"
      ],
      "text/plain": [
       "   overall                                         reviewText   \n",
       "1        1  It sucks barely picks up anything definitely n...  \\\n",
       "2        1  Well to write a short one, it blew 2 fuses of ...   \n",
       "3        3  I have absolutely no memory of buying this but...   \n",
       "4        5                               it ok it does it job   \n",
       "5        5  Have 3 big dogs. this have been great for my F...   \n",
       "\n",
       "                                            summary  \n",
       "1                                             sucks  \n",
       "2                                         Defective  \n",
       "3                        Looks cool! Probably works  \n",
       "4                                        Five Stars  \n",
       "5  this have been great for my Ford transit connect  "
      ]
     },
     "execution_count": 6,
     "metadata": {},
     "output_type": "execute_result"
    }
   ],
   "source": [
    "# Leave only \"overall\", \"reviewText\" and \"summary\"\n",
    "data = data[[\"overall\", \"reviewText\", \"summary\"]]\n",
    "data.head()"
   ]
  },
  {
   "cell_type": "code",
   "execution_count": 7,
   "id": "d92c6dc9-abf6-454d-b8b1-7b27b27d4821",
   "metadata": {},
   "outputs": [
    {
     "data": {
      "text/plain": [
       "overall       946798\n",
       "reviewText    946798\n",
       "summary       946798\n",
       "dtype: int64"
      ]
     },
     "execution_count": 7,
     "metadata": {},
     "output_type": "execute_result"
    }
   ],
   "source": [
    "# Fill empty summaries\n",
    "data = data.fillna(\"\")\n",
    "data.count()"
   ]
  },
  {
   "cell_type": "code",
   "execution_count": 8,
   "id": "1c29e18c-d791-4407-b4b7-598a58912b3b",
   "metadata": {},
   "outputs": [
    {
     "data": {
      "text/html": [
       "<div>\n",
       "<style scoped>\n",
       "    .dataframe tbody tr th:only-of-type {\n",
       "        vertical-align: middle;\n",
       "    }\n",
       "\n",
       "    .dataframe tbody tr th {\n",
       "        vertical-align: top;\n",
       "    }\n",
       "\n",
       "    .dataframe thead th {\n",
       "        text-align: right;\n",
       "    }\n",
       "</style>\n",
       "<table border=\"1\" class=\"dataframe\">\n",
       "  <thead>\n",
       "    <tr style=\"text-align: right;\">\n",
       "      <th></th>\n",
       "      <th>overall</th>\n",
       "      <th>text</th>\n",
       "    </tr>\n",
       "  </thead>\n",
       "  <tbody>\n",
       "    <tr>\n",
       "      <th>1</th>\n",
       "      <td>1</td>\n",
       "      <td>sucks It sucks barely picks up anything defini...</td>\n",
       "    </tr>\n",
       "    <tr>\n",
       "      <th>2</th>\n",
       "      <td>1</td>\n",
       "      <td>Defective Well to write a short one, it blew 2...</td>\n",
       "    </tr>\n",
       "    <tr>\n",
       "      <th>3</th>\n",
       "      <td>3</td>\n",
       "      <td>Looks cool! Probably works I have absolutely n...</td>\n",
       "    </tr>\n",
       "    <tr>\n",
       "      <th>4</th>\n",
       "      <td>5</td>\n",
       "      <td>Five Stars it ok it does it job</td>\n",
       "    </tr>\n",
       "    <tr>\n",
       "      <th>5</th>\n",
       "      <td>5</td>\n",
       "      <td>this have been great for my Ford transit conne...</td>\n",
       "    </tr>\n",
       "  </tbody>\n",
       "</table>\n",
       "</div>"
      ],
      "text/plain": [
       "   overall                                               text\n",
       "1        1  sucks It sucks barely picks up anything defini...\n",
       "2        1  Defective Well to write a short one, it blew 2...\n",
       "3        3  Looks cool! Probably works I have absolutely n...\n",
       "4        5                    Five Stars it ok it does it job\n",
       "5        5  this have been great for my Ford transit conne..."
      ]
     },
     "execution_count": 8,
     "metadata": {},
     "output_type": "execute_result"
    }
   ],
   "source": [
    "# Join \"summary\" and \"reviewText\" into one feature \"text\"\n",
    "data[\"space\"] = \" \"\n",
    "data[\"text\"] = data[\"summary\"] + data[\"space\"] + data[\"reviewText\"]\n",
    "data = data[[\"overall\", \"text\"]]\n",
    "data.head()"
   ]
  },
  {
   "cell_type": "code",
   "execution_count": 121,
   "id": "48187a71-a3bb-4049-b8da-f428af896d1a",
   "metadata": {},
   "outputs": [],
   "source": [
    "# Remove noise\n",
    "# Remove HTML\n",
    "data[\"text_cleaned\"] = data[\"text\"].replace(to_replace=\"(<.*?>|&nbsp;)\", value=\"\", regex=True)\n",
    "# Remove special characters\n",
    "data[\"text_cleaned\"] = data[\"text_cleaned\"].replace(to_replace=\"[.,\\/#!$%\\^&\\*;:{}=\\-_`~()]\", value=\"\", regex=True)\n",
    "# Remove numbers\n",
    "data[\"text_cleaned\"] = data[\"text_cleaned\"].replace(to_replace=\"[0-9]+\", value=\"\", regex=True)\n",
    "# Remove single character words\n",
    "data[\"text_cleaned\"] = data[\"text_cleaned\"].replace(to_replace=\"(?<![\\w])(?:[a-zA-Z0-9](?: |$))\", value=\"\", regex=True)\n",
    "# Remove multiple spaces\n",
    "data[\"text_cleaned\"] = data[\"text_cleaned\"].replace(to_replace=\" +\", value=\" \", regex=True)\n",
    "# Drop empty\n",
    "data = data.dropna()"
   ]
  },
  {
   "cell_type": "code",
   "execution_count": 108,
   "id": "b6319c74-be1f-4ad4-820b-0285b39b2157",
   "metadata": {},
   "outputs": [],
   "source": [
    "# Lemmatize text\n",
    "def lemmatization(texts):\n",
    "    nlp = spacy.load(\"en_core_web_sm\", disable=[\"parser\", \"ner\"])\n",
    "    texts_out = [\" \".join([token.lemma_ for token in nlp(text)]) for text in texts]\n",
    "    return (texts_out)\n",
    "\n",
    "data[\"lemmatized_text\"] = lemmatization(data[\"text_cleaned\"].values.tolist())"
   ]
  },
  {
   "cell_type": "code",
   "execution_count": 28,
   "id": "1001bdcf-ddd8-47b2-8277-2b11e9db02b8",
   "metadata": {},
   "outputs": [],
   "source": [
    "# Split texts into lists of words\n",
    "def gen_words(texts):\n",
    "    final = []\n",
    "    for text in texts:\n",
    "        new = gensim.utils.simple_preprocess(text, deacc=True)\n",
    "        final.append(new)\n",
    "    return (final)\n",
    "\n",
    "data[\"split_text\"] = gen_words(data[\"lemmatized_text\"].tolist())"
   ]
  },
  {
   "cell_type": "code",
   "execution_count": 9,
   "id": "ea0e55c5-e23e-4839-a1f9-15e03c1aec09",
   "metadata": {},
   "outputs": [],
   "source": [
    "file_path = \"saved_data/data.csv\""
   ]
  },
  {
   "cell_type": "code",
   "execution_count": 185,
   "id": "ecf3ee74-e1be-4401-bb17-327cfa6ef24d",
   "metadata": {},
   "outputs": [],
   "source": [
    "# Save data to file\n",
    "data.to_csv(file_path, index=False)"
   ]
  },
  {
   "cell_type": "code",
   "execution_count": 10,
   "id": "395c72db-1760-4d55-ae71-298cfedff580",
   "metadata": {},
   "outputs": [],
   "source": [
    "# Load data from file\n",
    "data = pd.read_csv(file_path)"
   ]
  },
  {
   "cell_type": "markdown",
   "id": "23d87696-def1-44b3-85ac-c7312d77154e",
   "metadata": {},
   "source": [
    "# GloVe Embeddings\n",
    "\n",
    "Now the GloVe word embeddings will be loaded, and all the words will be converted to indeces that connect them to their respective embeddings"
   ]
  },
  {
   "cell_type": "code",
   "execution_count": 16,
   "id": "7ecd81f5-00fa-4333-b98b-d5e2a92f1a93",
   "metadata": {},
   "outputs": [],
   "source": [
    "# Load GloVe word embeddings\n",
    "def read_glove_vecs(glove_file):\n",
    "    with open(glove_file, 'r', encoding=\"utf-8\") as f:\n",
    "        words = set()\n",
    "        word_to_vec_map = {}\n",
    "        for line in f:\n",
    "            line = line.strip().split()\n",
    "            curr_word = line[0]\n",
    "            words.add(curr_word)\n",
    "            word_to_vec_map[curr_word] = np.array(line[1:], dtype=np.float64)\n",
    "        \n",
    "        i = 1\n",
    "        words_to_index = {}\n",
    "        index_to_words = {}\n",
    "        for w in sorted(words):\n",
    "            words_to_index[w] = i\n",
    "            index_to_words[i] = w\n",
    "            i = i + 1\n",
    "    return words_to_index, index_to_words, word_to_vec_map\n",
    "\n",
    "words_to_index, index_to_words, word_to_vec_map = read_glove_vecs(\"glove.6B/glove.6B.50d.txt\")"
   ]
  },
  {
   "cell_type": "code",
   "execution_count": 31,
   "id": "da5438d7-c4b9-4083-afb1-fd34621d7972",
   "metadata": {},
   "outputs": [],
   "source": [
    "# Convert text to embeddings\n",
    "def convert_to_indeces(texts):\n",
    "    return [[words_to_index[word] for word in line if word in words_to_index] for line in texts]\n",
    "\n",
    "data[\"text_indeces\"] = convert_to_indeces(data[\"split_text\"].tolist())"
   ]
  },
  {
   "cell_type": "code",
   "execution_count": 180,
   "id": "efc56737-ec1f-44d0-86a9-a0d9a2c9a1d8",
   "metadata": {},
   "outputs": [
    {
     "data": {
      "text/plain": [
       "count    946659.000000\n",
       "mean         36.065825\n",
       "std          50.910704\n",
       "min           1.000000\n",
       "25%           8.000000\n",
       "50%          21.000000\n",
       "75%          44.000000\n",
       "max        3328.000000\n",
       "Name: text_indeces, dtype: float64"
      ]
     },
     "execution_count": 180,
     "metadata": {},
     "output_type": "execute_result"
    }
   ],
   "source": [
    "# Let's see what length to pad the reviews to\n",
    "data[\"text_indeces\"].apply(lambda x: len(x)).describe()"
   ]
  },
  {
   "cell_type": "code",
   "execution_count": 37,
   "id": "618b1004-6743-483a-81dc-29e391389c44",
   "metadata": {},
   "outputs": [],
   "source": [
    "# Pad and truncate to 100 words\n",
    "data[\"text_indeces_padded\"] = pad_sequences(data[\"text_indeces\"].tolist(), maxlen=100, padding=\"post\", truncating=\"post\").tolist()"
   ]
  },
  {
   "cell_type": "code",
   "execution_count": 50,
   "id": "03612712-528f-4ce8-a53d-a95630e9645d",
   "metadata": {},
   "outputs": [],
   "source": [
    "# Normalize target variable\n",
    "data[\"y\"] = data[\"overall\"].apply(lambda x : x/5)"
   ]
  },
  {
   "cell_type": "code",
   "execution_count": 51,
   "id": "0c8b22b4-5dcd-43ee-8f25-ff6685eb7a80",
   "metadata": {},
   "outputs": [],
   "source": [
    "# Drop empty\n",
    "data = data.dropna()"
   ]
  },
  {
   "cell_type": "markdown",
   "id": "519d1acd-1a3f-4e41-9fd0-ebf3b010e142",
   "metadata": {},
   "source": [
    "# Simple LSTM Model\n",
    "\n",
    "Now an LSTM model will be trained on the data"
   ]
  },
  {
   "cell_type": "code",
   "execution_count": 56,
   "id": "f227832b-71d5-453d-8805-f3e5545cce09",
   "metadata": {},
   "outputs": [],
   "source": [
    "# Train test split\n",
    "X_train, X_test, y_train, y_test = train_test_split(data[\"text_indeces_padded\"].tolist(), data[\"y\"].tolist(), test_size=0.02)"
   ]
  },
  {
   "cell_type": "code",
   "execution_count": 57,
   "id": "5c502849-056f-48fc-997f-912ff518046c",
   "metadata": {},
   "outputs": [],
   "source": [
    "# Convert to numpy arrays\n",
    "X_train = np.array(X_train)\n",
    "X_test = np.array(X_test)\n",
    "y_train = np.array(y_train)\n",
    "y_test = np.array(y_test)"
   ]
  },
  {
   "cell_type": "code",
   "execution_count": 75,
   "id": "abe03e98-eec5-453e-be66-8c5afabdbfab",
   "metadata": {},
   "outputs": [],
   "source": [
    "# Define pretrained Embedding layer using GloVe\n",
    "def pretrained_embedding_layer(word_to_vec_map, words_to_index):\n",
    "    vocab_size = len(words_to_index) + 1\n",
    "    any_word = list(word_to_vec_map.keys())[0]\n",
    "    emb_dim = word_to_vec_map[any_word].shape[0]\n",
    "      \n",
    "    emb_matrix = np.zeros([vocab_size,emb_dim])\n",
    "\n",
    "    for word, idx in words_to_index.items():\n",
    "        emb_matrix[idx, :] = word_to_vec_map[word]\n",
    "\n",
    "    embedding_layer = layers.Embedding(vocab_size, emb_dim ,trainable = False)\n",
    "\n",
    "    embedding_layer.build((None,))\n",
    "\n",
    "    embedding_layer.set_weights([emb_matrix])\n",
    "    \n",
    "    return embedding_layer"
   ]
  },
  {
   "cell_type": "code",
   "execution_count": 76,
   "id": "7cb55703-6e76-411e-b304-b945c22a1756",
   "metadata": {},
   "outputs": [],
   "source": [
    "# Define LSTM model\n",
    "def LSTM_regression_model(input_shape, word_to_vec_map, words_to_index, drop_out=0.2):  \n",
    "\n",
    "    sentence_indices = layers.Input(shape=input_shape, dtype='int32')\n",
    "    \n",
    "    embedding_layer = pretrained_embedding_layer(word_to_vec_map, words_to_index)\n",
    "    \n",
    "    embeddings = embedding_layer(sentence_indices)   \n",
    "    \n",
    "    X = layers.LSTM(units=128, return_sequences = True, dropout=drop_out)(embeddings)\n",
    "    X = layers.LSTM(units=128, return_sequences = False, dropout=drop_out)(X)\n",
    "    X = layers.Dense(32, activation=\"relu\")(X)\n",
    "    X = layers.Dense(1, activation='sigmoid')(X)\n",
    "    \n",
    "    model = Model(inputs=sentence_indices, outputs=X)\n",
    "    \n",
    "    return model"
   ]
  },
  {
   "cell_type": "code",
   "execution_count": 79,
   "id": "6d55039f-a2b0-4059-8635-b24340a5a274",
   "metadata": {},
   "outputs": [],
   "source": [
    "model = LSTM_regression_model((X_train.shape[1],), word_to_vec_map, words_to_index)"
   ]
  },
  {
   "cell_type": "code",
   "execution_count": 81,
   "id": "21b4d92d-9cf6-419d-958d-2d9d2fc0d2a7",
   "metadata": {},
   "outputs": [
    {
     "name": "stdout",
     "output_type": "stream",
     "text": [
      "Model: \"model\"\n",
      "_________________________________________________________________\n",
      "Layer (type)                 Output Shape              Param #   \n",
      "=================================================================\n",
      "input_3 (InputLayer)         [(None, 100)]             0         \n",
      "_________________________________________________________________\n",
      "embedding_1 (Embedding)      (None, 100, 50)           20000050  \n",
      "_________________________________________________________________\n",
      "lstm_2 (LSTM)                (None, 100, 128)          91648     \n",
      "_________________________________________________________________\n",
      "lstm_3 (LSTM)                (None, 128)               131584    \n",
      "_________________________________________________________________\n",
      "dense_2 (Dense)              (None, 32)                4128      \n",
      "_________________________________________________________________\n",
      "dense_3 (Dense)              (None, 1)                 33        \n",
      "=================================================================\n",
      "Total params: 20,227,443\n",
      "Trainable params: 227,393\n",
      "Non-trainable params: 20,000,050\n",
      "_________________________________________________________________\n"
     ]
    }
   ],
   "source": [
    "model.summary()"
   ]
  },
  {
   "cell_type": "code",
   "execution_count": 86,
   "id": "373a21c1-035c-4ad7-883c-c454f4730cc5",
   "metadata": {},
   "outputs": [],
   "source": [
    "model.compile(optimizer='adam', loss=\"mean_squared_error\", metrics=[metrics.MeanSquaredError(), metrics.RootMeanSquaredError()])"
   ]
  },
  {
   "cell_type": "code",
   "execution_count": 88,
   "id": "ac962d18-7c1f-4819-b9c1-c3834a7b6d68",
   "metadata": {},
   "outputs": [
    {
     "name": "stdout",
     "output_type": "stream",
     "text": [
      "Epoch 1/10\n",
      "14496/14496 [==============================] - 191s 13ms/step - loss: 0.0122 - mean_squared_error: 0.0122 - root_mean_squared_error: 0.1104 - val_loss: 0.0110 - val_mean_squared_error: 0.0110 - val_root_mean_squared_error: 0.1047\n",
      "Epoch 2/10\n",
      "14496/14496 [==============================] - 191s 13ms/step - loss: 0.0113 - mean_squared_error: 0.0113 - root_mean_squared_error: 0.1064 - val_loss: 0.0101 - val_mean_squared_error: 0.0101 - val_root_mean_squared_error: 0.1007\n",
      "Epoch 3/10\n",
      "14496/14496 [==============================] - 191s 13ms/step - loss: 0.0108 - mean_squared_error: 0.0108 - root_mean_squared_error: 0.1038 - val_loss: 0.0101 - val_mean_squared_error: 0.0101 - val_root_mean_squared_error: 0.1003\n",
      "Epoch 4/10\n",
      "14496/14496 [==============================] - 191s 13ms/step - loss: 0.0104 - mean_squared_error: 0.0104 - root_mean_squared_error: 0.1019 - val_loss: 0.0097 - val_mean_squared_error: 0.0097 - val_root_mean_squared_error: 0.0984\n",
      "Epoch 5/10\n",
      "14496/14496 [==============================] - 191s 13ms/step - loss: 0.0101 - mean_squared_error: 0.0101 - root_mean_squared_error: 0.1006 - val_loss: 0.0095 - val_mean_squared_error: 0.0095 - val_root_mean_squared_error: 0.0975\n",
      "Epoch 6/10\n",
      "14496/14496 [==============================] - 192s 13ms/step - loss: 0.0099 - mean_squared_error: 0.0099 - root_mean_squared_error: 0.0994 - val_loss: 0.0092 - val_mean_squared_error: 0.0092 - val_root_mean_squared_error: 0.0961\n",
      "Epoch 7/10\n",
      "14496/14496 [==============================] - 192s 13ms/step - loss: 0.0097 - mean_squared_error: 0.0097 - root_mean_squared_error: 0.0986 - val_loss: 0.0092 - val_mean_squared_error: 0.0092 - val_root_mean_squared_error: 0.0958\n",
      "Epoch 8/10\n",
      "14496/14496 [==============================] - 193s 13ms/step - loss: 0.0096 - mean_squared_error: 0.0096 - root_mean_squared_error: 0.0979 - val_loss: 0.0091 - val_mean_squared_error: 0.0091 - val_root_mean_squared_error: 0.0953\n",
      "Epoch 9/10\n",
      "14496/14496 [==============================] - 193s 13ms/step - loss: 0.0094 - mean_squared_error: 0.0094 - root_mean_squared_error: 0.0972 - val_loss: 0.0091 - val_mean_squared_error: 0.0091 - val_root_mean_squared_error: 0.0954\n",
      "Epoch 10/10\n",
      "14496/14496 [==============================] - 193s 13ms/step - loss: 0.0093 - mean_squared_error: 0.0093 - root_mean_squared_error: 0.0967 - val_loss: 0.0093 - val_mean_squared_error: 0.0093 - val_root_mean_squared_error: 0.0963\n"
     ]
    }
   ],
   "source": [
    "# Fit the model\n",
    "early_stopping_monitor = EarlyStopping(\n",
    "    monitor=\"val_mean_squared_error\",\n",
    "    min_delta=0.005,\n",
    "    patience=40,\n",
    "    verbose=0,\n",
    "    mode=\"min\",\n",
    "    baseline=None,\n",
    "    restore_best_weights=True\n",
    ")\n",
    "\n",
    "history = model.fit(\n",
    "    x=X_train,\n",
    "    y=y_train,\n",
    "    batch_size=64,\n",
    "    epochs=10,\n",
    "    callbacks=[early_stopping_monitor],\n",
    "    validation_data=(X_test, y_test)\n",
    ")"
   ]
  },
  {
   "cell_type": "code",
   "execution_count": 124,
   "id": "9579dd44-2a3d-4bd3-b4d1-9881eb3d08c3",
   "metadata": {},
   "outputs": [],
   "source": [
    "# Function to summarize history for loss\n",
    "def summarize_history(history):\n",
    "    plt.plot(history.history['loss'])\n",
    "    plt.plot(history.history['val_loss'])\n",
    "    plt.title('model loss')\n",
    "    plt.ylabel('loss')\n",
    "    plt.xlabel('epoch')\n",
    "    plt.legend(['train', 'test'], loc='upper left')\n",
    "    plt.show()"
   ]
  },
  {
   "cell_type": "code",
   "execution_count": 132,
   "id": "cd8d1a61-6d3e-4d58-981a-a08776b0e35b",
   "metadata": {},
   "outputs": [
    {
     "data": {
      "image/png": "[encoded data removed]",
      "text/plain": [
       "<Figure size 640x480 with 1 Axes>"
      ]
     },
     "metadata": {},
     "output_type": "display_data"
    }
   ],
   "source": [
    "summarize_history(history)"
   ]
  },
  {
   "cell_type": "code",
   "execution_count": 181,
   "id": "d425e473-8d17-4c79-b27d-173cfa86f85c",
   "metadata": {},
   "outputs": [],
   "source": [
    "# Function to make predictions from test set and calculate mse, rmse, r2\n",
    "def evaluate_test(model, X_test, y_test):\n",
    "    prediction = model.predict(X_test)\n",
    "    mse = mean_squared_error(y_test, prediction)\n",
    "    rmse = np.sqrt(mse)\n",
    "    r2 = r2_score(y_test, prediction)\n",
    "    print(f\"mse = {mse}\")\n",
    "    print(f\"rmse = {rmse}\")\n",
    "    print(f\"r2 = {r2}\")"
   ]
  },
  {
   "cell_type": "code",
   "execution_count": 182,
   "id": "6a31068a-bb20-4366-afe4-c64a7127613a",
   "metadata": {},
   "outputs": [
    {
     "name": "stdout",
     "output_type": "stream",
     "text": [
      "mse = 0.009270556893447556\n",
      "rmse = 0.09628373119820169\n",
      "r2 = 0.76567899511064\n"
     ]
    }
   ],
   "source": [
    "evaluate_test(model, X_test, y_test)"
   ]
  },
  {
   "cell_type": "code",
   "execution_count": 200,
   "id": "c0fd6823-8d72-49a9-aa55-6366af9d15a6",
   "metadata": {},
   "outputs": [],
   "source": [
    "# Function to plot histograms\n",
    "def plot_histogram(model, X_test, y_test):\n",
    "    prediction = model.predict(X_test)\n",
    "    prediction = np.reshape(prediction, (prediction.shape[0],))\n",
    "    df = pd.DataFrame()\n",
    "    df[\"prediction\"] = prediction * 5\n",
    "    df[\"target\"] = y_test * 5\n",
    "    target_df = df.groupby(by=\"target\")\n",
    "    plt.style.use('ggplot')\n",
    "    plt.title('Histogram of predicted ratings')\n",
    "    for key in target_df.groups.keys():\n",
    "        plt.hist(target_df.get_group(key)['prediction'], bins=30, edgecolor='black', alpha=0.5, density=True)\n",
    "    plt.legend(list(range(1,6)))\n",
    "    plt.show()"
   ]
  },
  {
   "cell_type": "code",
   "execution_count": 201,
   "id": "c9ee6bb5-1f38-4dc8-bac3-3fc08d16ca27",
   "metadata": {},
   "outputs": [
    {
     "data": {
      "image/png": "[encoded data removed]",
      "text/plain": [
       "<Figure size 640x480 with 1 Axes>"
      ]
     },
     "metadata": {},
     "output_type": "display_data"
    }
   ],
   "source": [
    "plot_histogram(model, X_test, y_test)"
   ]
  },
  {
   "cell_type": "code",
   "execution_count": 117,
   "id": "25556522-cbae-4426-9ab1-b05f84249d72",
   "metadata": {},
   "outputs": [
    {
     "name": "stderr",
     "output_type": "stream",
     "text": [
      "WARNING:absl:Found untraced functions such as lstm_cell_2_layer_call_fn, lstm_cell_2_layer_call_and_return_conditional_losses, lstm_cell_3_layer_call_fn, lstm_cell_3_layer_call_and_return_conditional_losses, lstm_cell_2_layer_call_fn while saving (showing 5 of 10). These functions will not be directly callable after loading.\n"
     ]
    },
    {
     "name": "stdout",
     "output_type": "stream",
     "text": [
      "INFO:tensorflow:Assets written to: ./model_weights/LSTM_model\\assets\n"
     ]
    },
    {
     "name": "stderr",
     "output_type": "stream",
     "text": [
      "INFO:tensorflow:Assets written to: ./model_weights/LSTM_model\\assets\n"
     ]
    }
   ],
   "source": [
    "model.save(\"./model_weights/LSTM_model\")"
   ]
  },
  {
   "cell_type": "code",
   "execution_count": 175,
   "id": "bf31db5e-9dd2-463c-bffa-51f9ab3e0232",
   "metadata": {},
   "outputs": [],
   "source": [
    "model = keras.models.load_model(\"./model_weights/LSTM_model\")"
   ]
  },
  {
   "cell_type": "markdown",
   "id": "7ac33167-5658-4e28-af53-7e8e864b2b60",
   "metadata": {},
   "source": [
    "# Results\n",
    "\n",
    "As we can see the model has achieved **MSE** of **0.009**, **RMSE** of **0.096** and **R2** of **0.766**. RMSE of 0.096 means that on average the model's prediction is 0.096 off from the real value, however considering the fact that the dataset is highly imbalanced in favour of 5 scores this doesn't tell much. R2 of 0.766 means that the model can explain 77% of the target variable's variance, which is certainly high, but could be better. The histograms show peaks around true values, but also show a problem, which is that people can be inconsistent in their reviews and scores as can be seen by the model often misidentifying a score of 4 as 5.\n"
   ]
  },
  {
   "cell_type": "markdown",
   "id": "1d853c51-c4f7-486c-88a4-de86be614626",
   "metadata": {},
   "source": [
    "# Bidirectional LSTM model\n",
    "\n",
    "Now a bidirectional LSTM model will be trained"
   ]
  },
  {
   "cell_type": "code",
   "execution_count": 118,
   "id": "49dbdcfa-4a60-49f4-b30a-1caf90ce4d10",
   "metadata": {},
   "outputs": [],
   "source": [
    "# Define bidirectional LSTM model\n",
    "def Bi_LSTM_regression_model(input_shape, word_to_vec_map, words_to_index, drop_out=0.2):  \n",
    "\n",
    "    sentence_indices = layers.Input(shape=input_shape, dtype='int32')\n",
    "    \n",
    "    embedding_layer = pretrained_embedding_layer(word_to_vec_map, words_to_index)\n",
    "    \n",
    "    embeddings = embedding_layer(sentence_indices)   \n",
    "    \n",
    "    X = layers.Bidirectional(layers.LSTM(units=128, return_sequences = True, dropout=drop_out))(embeddings)\n",
    "    X = layers.Bidirectional(layers.LSTM(units=128, return_sequences = False, dropout=drop_out))(X)\n",
    "    X = layers.Dense(32, activation=\"relu\")(X)\n",
    "    X = layers.Dense(1, activation='sigmoid')(X)\n",
    "    \n",
    "    model = Model(inputs=sentence_indices, outputs=X)\n",
    "    \n",
    "    return model"
   ]
  },
  {
   "cell_type": "code",
   "execution_count": 128,
   "id": "ca0a6c57-fd35-4b3f-a907-51959297f8eb",
   "metadata": {},
   "outputs": [
    {
     "name": "stdout",
     "output_type": "stream",
     "text": [
      "Model: \"model_2\"\n",
      "_________________________________________________________________\n",
      "Layer (type)                 Output Shape              Param #   \n",
      "=================================================================\n",
      "input_5 (InputLayer)         [(None, 100)]             0         \n",
      "_________________________________________________________________\n",
      "embedding_3 (Embedding)      (None, 100, 50)           20000050  \n",
      "_________________________________________________________________\n",
      "bidirectional_2 (Bidirection (None, 100, 256)          183296    \n",
      "_________________________________________________________________\n",
      "bidirectional_3 (Bidirection (None, 256)               394240    \n",
      "_________________________________________________________________\n",
      "dense_6 (Dense)              (None, 32)                8224      \n",
      "_________________________________________________________________\n",
      "dense_7 (Dense)              (None, 1)                 33        \n",
      "=================================================================\n",
      "Total params: 20,585,843\n",
      "Trainable params: 585,793\n",
      "Non-trainable params: 20,000,050\n",
      "_________________________________________________________________\n"
     ]
    }
   ],
   "source": [
    "b_model = Bi_LSTM_regression_model((X_train.shape[1],), word_to_vec_map, words_to_index)\n",
    "b_model.summary()"
   ]
  },
  {
   "cell_type": "code",
   "execution_count": 129,
   "id": "93e4bc56-2f38-4159-8d7b-56324f1a8f24",
   "metadata": {},
   "outputs": [],
   "source": [
    "b_model.compile(optimizer='adam', loss=\"mean_squared_error\", metrics=[metrics.MeanSquaredError(), metrics.RootMeanSquaredError()])"
   ]
  },
  {
   "cell_type": "code",
   "execution_count": 130,
   "id": "dcdc0fa5-f269-434a-ae93-efb797dd4a34",
   "metadata": {},
   "outputs": [
    {
     "name": "stdout",
     "output_type": "stream",
     "text": [
      "Epoch 1/10\n",
      "14496/14496 [==============================] - 392s 26ms/step - loss: 0.0157 - mean_squared_error: 0.0157 - root_mean_squared_error: 0.1253 - val_loss: 0.0118 - val_mean_squared_error: 0.0118 - val_root_mean_squared_error: 0.1089\n",
      "Epoch 2/10\n",
      "14496/14496 [==============================] - 396s 27ms/step - loss: 0.0115 - mean_squared_error: 0.0115 - root_mean_squared_error: 0.1072 - val_loss: 0.0102 - val_mean_squared_error: 0.0102 - val_root_mean_squared_error: 0.1009\n",
      "Epoch 3/10\n",
      "14496/14496 [==============================] - 380s 26ms/step - loss: 0.0105 - mean_squared_error: 0.0105 - root_mean_squared_error: 0.1026 - val_loss: 0.0098 - val_mean_squared_error: 0.0098 - val_root_mean_squared_error: 0.0991\n",
      "Epoch 4/10\n",
      "14496/14496 [==============================] - 378s 26ms/step - loss: 0.0099 - mean_squared_error: 0.0099 - root_mean_squared_error: 0.0997 - val_loss: 0.0096 - val_mean_squared_error: 0.0096 - val_root_mean_squared_error: 0.0981\n",
      "Epoch 5/10\n",
      "14496/14496 [==============================] - 379s 26ms/step - loss: 0.0096 - mean_squared_error: 0.0096 - root_mean_squared_error: 0.0978 - val_loss: 0.0092 - val_mean_squared_error: 0.0092 - val_root_mean_squared_error: 0.0958\n",
      "Epoch 6/10\n",
      "14496/14496 [==============================] - 379s 26ms/step - loss: 0.0093 - mean_squared_error: 0.0093 - root_mean_squared_error: 0.0963 - val_loss: 0.0092 - val_mean_squared_error: 0.0092 - val_root_mean_squared_error: 0.0957\n",
      "Epoch 7/10\n",
      "14496/14496 [==============================] - 379s 26ms/step - loss: 0.0090 - mean_squared_error: 0.0090 - root_mean_squared_error: 0.0951 - val_loss: 0.0090 - val_mean_squared_error: 0.0090 - val_root_mean_squared_error: 0.0951\n",
      "Epoch 8/10\n",
      "14496/14496 [==============================] - 379s 26ms/step - loss: 0.0089 - mean_squared_error: 0.0089 - root_mean_squared_error: 0.0942 - val_loss: 0.0090 - val_mean_squared_error: 0.0090 - val_root_mean_squared_error: 0.0947\n",
      "Epoch 9/10\n",
      "14496/14496 [==============================] - 377s 26ms/step - loss: 0.0087 - mean_squared_error: 0.0087 - root_mean_squared_error: 0.0932 - val_loss: 0.0088 - val_mean_squared_error: 0.0088 - val_root_mean_squared_error: 0.0940\n",
      "Epoch 10/10\n",
      "14496/14496 [==============================] - 379s 26ms/step - loss: 0.0086 - mean_squared_error: 0.0086 - root_mean_squared_error: 0.0925 - val_loss: 0.0089 - val_mean_squared_error: 0.0089 - val_root_mean_squared_error: 0.0942\n"
     ]
    }
   ],
   "source": [
    "# Fit the model\n",
    "early_stopping_monitor = EarlyStopping(\n",
    "    monitor=\"val_mean_squared_error\",\n",
    "    min_delta=0.005,\n",
    "    patience=40,\n",
    "    verbose=0,\n",
    "    mode=\"min\",\n",
    "    baseline=None,\n",
    "    restore_best_weights=True\n",
    ")\n",
    "\n",
    "b_history = b_model.fit(\n",
    "    x=X_train,\n",
    "    y=y_train,\n",
    "    batch_size=64,\n",
    "    epochs=10,\n",
    "    callbacks=[early_stopping_monitor],\n",
    "    validation_data=(X_test, y_test)\n",
    ")"
   ]
  },
  {
   "cell_type": "code",
   "execution_count": 133,
   "id": "ca6e1c25-436f-4ec2-8805-1834c4158497",
   "metadata": {},
   "outputs": [
    {
     "data": {
      "image/png": "[encoded data removed]",
      "text/plain": [
       "<Figure size 640x480 with 1 Axes>"
      ]
     },
     "metadata": {},
     "output_type": "display_data"
    }
   ],
   "source": [
    "summarize_history(b_history)"
   ]
  },
  {
   "cell_type": "code",
   "execution_count": 183,
   "id": "af9249f6-b31b-4d0d-862a-8b3e24b4470c",
   "metadata": {},
   "outputs": [
    {
     "name": "stdout",
     "output_type": "stream",
     "text": [
      "mse = 0.008879768119644825\n",
      "rmse = 0.09423252156047203\n",
      "r2 = 0.7755565050843567\n"
     ]
    }
   ],
   "source": [
    "evaluate_test(b_model, X_test, y_test)"
   ]
  },
  {
   "cell_type": "code",
   "execution_count": 202,
   "id": "e39edf28-4d39-4bed-b681-8e68a901d315",
   "metadata": {},
   "outputs": [
    {
     "data": {
      "image/png": "[encoded data removed]",
      "text/plain": [
       "<Figure size 640x480 with 1 Axes>"
      ]
     },
     "metadata": {},
     "output_type": "display_data"
    }
   ],
   "source": [
    "plot_histogram(b_model, X_test, y_test)"
   ]
  },
  {
   "cell_type": "code",
   "execution_count": 136,
   "id": "d38adf46-6b1d-49b7-ac5e-dea8992fcc89",
   "metadata": {},
   "outputs": [
    {
     "name": "stderr",
     "output_type": "stream",
     "text": [
      "WARNING:absl:Found untraced functions such as lstm_cell_11_layer_call_fn, lstm_cell_11_layer_call_and_return_conditional_losses, lstm_cell_12_layer_call_fn, lstm_cell_12_layer_call_and_return_conditional_losses, lstm_cell_14_layer_call_fn while saving (showing 5 of 20). These functions will not be directly callable after loading.\n"
     ]
    },
    {
     "name": "stdout",
     "output_type": "stream",
     "text": [
      "INFO:tensorflow:Assets written to: ./model_weights/b_LSTM_model\\assets\n"
     ]
    },
    {
     "name": "stderr",
     "output_type": "stream",
     "text": [
      "INFO:tensorflow:Assets written to: ./model_weights/b_LSTM_model\\assets\n"
     ]
    }
   ],
   "source": [
    "b_model.save(\"./model_weights/b_LSTM_model\")"
   ]
  },
  {
   "cell_type": "markdown",
   "id": "cea8217b-66ea-456c-b14c-fa851dac4eb1",
   "metadata": {},
   "source": [
    "# Results\n",
    "\n",
    "We can see a small improvement over the base model, specifically the amount of misidentifications of a score of 4 as 5 is lower"
   ]
  }
 ],
 "metadata": {
  "kernelspec": {
   "display_name": "Python 3 (ipykernel)",
   "language": "python",
   "name": "python3"
  },
  "language_info": {
   "codemirror_mode": {
    "name": "ipython",
    "version": 3
   },
   "file_extension": ".py",
   "mimetype": "text/x-python",
   "name": "python",
   "nbconvert_exporter": "python",
   "pygments_lexer": "ipython3",
   "version": "3.9.16"
  }
 },
 "nbformat": 4,
 "nbformat_minor": 5
}
