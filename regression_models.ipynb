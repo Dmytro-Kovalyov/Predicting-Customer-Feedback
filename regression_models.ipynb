{
 "cells": [
  {
   "cell_type": "code",
   "execution_count": 132,
   "id": "df9301be-bc7e-4fe4-bcde-09a54e5fd9eb",
   "metadata": {},
   "outputs": [],
   "source": [
    "import pandas as pd\n",
    "import numpy as np\n",
    "import matplotlib.pyplot as plt\n",
    "import re\n",
    "\n",
    "from sklearn.model_selection import train_test_split\n",
    "\n",
    "# spacy\n",
    "import spacy\n",
    "\n",
    "# Gensim\n",
    "import gensim"
   ]
  },
  {
   "cell_type": "code",
   "execution_count": 2,
   "id": "6440a017-f296-4d6c-919f-76d337bf0820",
   "metadata": {},
   "outputs": [],
   "source": [
    "# Load data\n",
    "data = pd.read_json(\"dataset_1M.json\", lines=True)"
   ]
  },
  {
   "cell_type": "code",
   "execution_count": 3,
   "id": "5bb32ffd-09d0-4349-ab3b-44dfb1706597",
   "metadata": {},
   "outputs": [
    {
     "data": {
      "text/plain": [
       "overall           1000000\n",
       "verified          1000000\n",
       "reviewTime        1000000\n",
       "reviewerID        1000000\n",
       "asin              1000000\n",
       "style              358331\n",
       "reviewerName       999917\n",
       "reviewText         999636\n",
       "summary            999862\n",
       "unixReviewTime    1000000\n",
       "vote               121947\n",
       "image               16345\n",
       "dtype: int64"
      ]
     },
     "execution_count": 3,
     "metadata": {},
     "output_type": "execute_result"
    }
   ],
   "source": [
    "data.count()"
   ]
  },
  {
   "cell_type": "code",
   "execution_count": 4,
   "id": "9b0187dd-3fb3-4aa3-9a9e-4b06bfccb589",
   "metadata": {},
   "outputs": [
    {
     "data": {
      "text/plain": [
       "overall           947137\n",
       "verified          947137\n",
       "reviewTime        947137\n",
       "reviewerID        947137\n",
       "asin              947137\n",
       "style             337257\n",
       "reviewerName      947064\n",
       "reviewText        946798\n",
       "summary           947005\n",
       "unixReviewTime    947137\n",
       "vote              111510\n",
       "image              14906\n",
       "dtype: int64"
      ]
     },
     "execution_count": 4,
     "metadata": {},
     "output_type": "execute_result"
    }
   ],
   "source": [
    "# Remove all non-verified buyers\n",
    "data = data[data.verified]\n",
    "data.count()"
   ]
  },
  {
   "cell_type": "code",
   "execution_count": 5,
   "id": "45282651-a62d-4dc5-b4e6-5f164ac23ac0",
   "metadata": {},
   "outputs": [
    {
     "data": {
      "text/plain": [
       "overall           946798\n",
       "verified          946798\n",
       "reviewTime        946798\n",
       "reviewerID        946798\n",
       "asin              946798\n",
       "style             337128\n",
       "reviewerName      946725\n",
       "reviewText        946798\n",
       "summary           946674\n",
       "unixReviewTime    946798\n",
       "vote              111487\n",
       "image              14832\n",
       "dtype: int64"
      ]
     },
     "execution_count": 5,
     "metadata": {},
     "output_type": "execute_result"
    }
   ],
   "source": [
    "# Remove all reviews without text\n",
    "data = data[data.reviewText.notna()]\n",
    "data.count()"
   ]
  },
  {
   "cell_type": "code",
   "execution_count": 6,
   "id": "d002d3cb-39db-4729-ade1-35f24013b936",
   "metadata": {},
   "outputs": [
    {
     "data": {
      "text/html": [
       "<div>\n",
       "<style scoped>\n",
       "    .dataframe tbody tr th:only-of-type {\n",
       "        vertical-align: middle;\n",
       "    }\n",
       "\n",
       "    .dataframe tbody tr th {\n",
       "        vertical-align: top;\n",
       "    }\n",
       "\n",
       "    .dataframe thead th {\n",
       "        text-align: right;\n",
       "    }\n",
       "</style>\n",
       "<table border=\"1\" class=\"dataframe\">\n",
       "  <thead>\n",
       "    <tr style=\"text-align: right;\">\n",
       "      <th></th>\n",
       "      <th>overall</th>\n",
       "      <th>reviewText</th>\n",
       "      <th>summary</th>\n",
       "    </tr>\n",
       "  </thead>\n",
       "  <tbody>\n",
       "    <tr>\n",
       "      <th>1</th>\n",
       "      <td>1</td>\n",
       "      <td>It sucks barely picks up anything definitely n...</td>\n",
       "      <td>sucks</td>\n",
       "    </tr>\n",
       "    <tr>\n",
       "      <th>2</th>\n",
       "      <td>1</td>\n",
       "      <td>Well to write a short one, it blew 2 fuses of ...</td>\n",
       "      <td>Defective</td>\n",
       "    </tr>\n",
       "    <tr>\n",
       "      <th>3</th>\n",
       "      <td>3</td>\n",
       "      <td>I have absolutely no memory of buying this but...</td>\n",
       "      <td>Looks cool! Probably works</td>\n",
       "    </tr>\n",
       "    <tr>\n",
       "      <th>4</th>\n",
       "      <td>5</td>\n",
       "      <td>it ok it does it job</td>\n",
       "      <td>Five Stars</td>\n",
       "    </tr>\n",
       "    <tr>\n",
       "      <th>5</th>\n",
       "      <td>5</td>\n",
       "      <td>Have 3 big dogs. this have been great for my F...</td>\n",
       "      <td>this have been great for my Ford transit connect</td>\n",
       "    </tr>\n",
       "  </tbody>\n",
       "</table>\n",
       "</div>"
      ],
      "text/plain": [
       "   overall                                         reviewText   \n",
       "1        1  It sucks barely picks up anything definitely n...  \\\n",
       "2        1  Well to write a short one, it blew 2 fuses of ...   \n",
       "3        3  I have absolutely no memory of buying this but...   \n",
       "4        5                               it ok it does it job   \n",
       "5        5  Have 3 big dogs. this have been great for my F...   \n",
       "\n",
       "                                            summary  \n",
       "1                                             sucks  \n",
       "2                                         Defective  \n",
       "3                        Looks cool! Probably works  \n",
       "4                                        Five Stars  \n",
       "5  this have been great for my Ford transit connect  "
      ]
     },
     "execution_count": 6,
     "metadata": {},
     "output_type": "execute_result"
    }
   ],
   "source": [
    "# Leave only \"overall\", \"reviewText\" and \"summary\"\n",
    "data = data[[\"overall\", \"reviewText\", \"summary\"]]\n",
    "data.head()"
   ]
  },
  {
   "cell_type": "code",
   "execution_count": 7,
   "id": "d92c6dc9-abf6-454d-b8b1-7b27b27d4821",
   "metadata": {},
   "outputs": [
    {
     "data": {
      "text/plain": [
       "overall       946798\n",
       "reviewText    946798\n",
       "summary       946798\n",
       "dtype: int64"
      ]
     },
     "execution_count": 7,
     "metadata": {},
     "output_type": "execute_result"
    }
   ],
   "source": [
    "# Fill empty summaries\n",
    "data = data.fillna(\"\")\n",
    "data.count()"
   ]
  },
  {
   "cell_type": "code",
   "execution_count": 8,
   "id": "1c29e18c-d791-4407-b4b7-598a58912b3b",
   "metadata": {},
   "outputs": [
    {
     "data": {
      "text/html": [
       "<div>\n",
       "<style scoped>\n",
       "    .dataframe tbody tr th:only-of-type {\n",
       "        vertical-align: middle;\n",
       "    }\n",
       "\n",
       "    .dataframe tbody tr th {\n",
       "        vertical-align: top;\n",
       "    }\n",
       "\n",
       "    .dataframe thead th {\n",
       "        text-align: right;\n",
       "    }\n",
       "</style>\n",
       "<table border=\"1\" class=\"dataframe\">\n",
       "  <thead>\n",
       "    <tr style=\"text-align: right;\">\n",
       "      <th></th>\n",
       "      <th>overall</th>\n",
       "      <th>text</th>\n",
       "    </tr>\n",
       "  </thead>\n",
       "  <tbody>\n",
       "    <tr>\n",
       "      <th>1</th>\n",
       "      <td>1</td>\n",
       "      <td>sucks It sucks barely picks up anything defini...</td>\n",
       "    </tr>\n",
       "    <tr>\n",
       "      <th>2</th>\n",
       "      <td>1</td>\n",
       "      <td>Defective Well to write a short one, it blew 2...</td>\n",
       "    </tr>\n",
       "    <tr>\n",
       "      <th>3</th>\n",
       "      <td>3</td>\n",
       "      <td>Looks cool! Probably works I have absolutely n...</td>\n",
       "    </tr>\n",
       "    <tr>\n",
       "      <th>4</th>\n",
       "      <td>5</td>\n",
       "      <td>Five Stars it ok it does it job</td>\n",
       "    </tr>\n",
       "    <tr>\n",
       "      <th>5</th>\n",
       "      <td>5</td>\n",
       "      <td>this have been great for my Ford transit conne...</td>\n",
       "    </tr>\n",
       "  </tbody>\n",
       "</table>\n",
       "</div>"
      ],
      "text/plain": [
       "   overall                                               text\n",
       "1        1  sucks It sucks barely picks up anything defini...\n",
       "2        1  Defective Well to write a short one, it blew 2...\n",
       "3        3  Looks cool! Probably works I have absolutely n...\n",
       "4        5                    Five Stars it ok it does it job\n",
       "5        5  this have been great for my Ford transit conne..."
      ]
     },
     "execution_count": 8,
     "metadata": {},
     "output_type": "execute_result"
    }
   ],
   "source": [
    "# Join \"summary\" and \"reviewText\" into one feature \"text\"\n",
    "data[\"space\"] = \" \"\n",
    "data[\"text\"] = data.summary + data.space + data.reviewText\n",
    "data = data[[\"overall\", \"text\"]]\n",
    "data.head()"
   ]
  },
  {
   "cell_type": "code",
   "execution_count": 121,
   "id": "48187a71-a3bb-4049-b8da-f428af896d1a",
   "metadata": {},
   "outputs": [],
   "source": [
    "# Remove noise\n",
    "data[\"text_cleaned\"] = data[\"text\"].replace(to_replace=\"(<.*?>|&nbsp;)\", value=\"\", regex=True)\n",
    "data[\"text_cleaned\"] = data[\"text_cleaned\"].replace(to_replace=\"[.,\\/#!$%\\^&\\*;:{}=\\-_`~()]\", value=\"\", regex=True)\n",
    "data[\"text_cleaned\"] = data[\"text_cleaned\"].replace(to_replace=\"[0-9]+\", value=\"\", regex=True)\n",
    "data[\"text_cleaned\"] = data[\"text_cleaned\"].replace(to_replace=\"(?<![\\w])(?:[a-zA-Z0-9](?: |$))\", value=\"\", regex=True)"
   ]
  },
  {
   "cell_type": "code",
   "execution_count": 108,
   "id": "b6319c74-be1f-4ad4-820b-0285b39b2157",
   "metadata": {},
   "outputs": [],
   "source": [
    "def lemmatization(texts):\n",
    "    nlp = spacy.load(\"en_core_web_sm\", disable=[\"parser\", \"ner\"])\n",
    "    texts_out = [\" \".join([token.lemma_ for token in nlp(text)]) for text in texts]\n",
    "    return (texts_out)\n",
    "\n",
    "data[\"lemmatized_text\"] = lemmatization(data[\"text_cleaned\"].values.tolist())"
   ]
  },
  {
   "cell_type": "code",
   "execution_count": 133,
   "id": "1001bdcf-ddd8-47b2-8277-2b11e9db02b8",
   "metadata": {},
   "outputs": [],
   "source": [
    "# Split texts into lists of words\n",
    "def gen_words(texts):\n",
    "    final = []\n",
    "    for text in texts:\n",
    "        new = gensim.utils.simple_preprocess(text, deacc=True)\n",
    "        final.append(new)\n",
    "    return (final)\n",
    "\n",
    "data[\"split_text\"] = gen_words(data[\"lemmatized_text\"].tolist())"
   ]
  },
  {
   "cell_type": "code",
   "execution_count": 139,
   "id": "ea0e55c5-e23e-4839-a1f9-15e03c1aec09",
   "metadata": {},
   "outputs": [],
   "source": [
    "file_path = \"saved_data/data.csv\""
   ]
  },
  {
   "cell_type": "code",
   "execution_count": 143,
   "id": "ecf3ee74-e1be-4401-bb17-327cfa6ef24d",
   "metadata": {},
   "outputs": [],
   "source": [
    "# Save data to file\n",
    "data.to_csv(file_path, index=False)"
   ]
  },
  {
   "cell_type": "code",
   "execution_count": 144,
   "id": "395c72db-1760-4d55-ae71-298cfedff580",
   "metadata": {},
   "outputs": [],
   "source": [
    "# Load data from file\n",
    "data_test = pd.read_csv(file_path)"
   ]
  },
  {
   "cell_type": "code",
   "execution_count": 145,
   "id": "ea188f4e-71d6-42f1-a711-fa0c5734d607",
   "metadata": {},
   "outputs": [
    {
     "data": {
      "text/html": [
       "<div>\n",
       "<style scoped>\n",
       "    .dataframe tbody tr th:only-of-type {\n",
       "        vertical-align: middle;\n",
       "    }\n",
       "\n",
       "    .dataframe tbody tr th {\n",
       "        vertical-align: top;\n",
       "    }\n",
       "\n",
       "    .dataframe thead th {\n",
       "        text-align: right;\n",
       "    }\n",
       "</style>\n",
       "<table border=\"1\" class=\"dataframe\">\n",
       "  <thead>\n",
       "    <tr style=\"text-align: right;\">\n",
       "      <th></th>\n",
       "      <th>overall</th>\n",
       "      <th>text</th>\n",
       "      <th>text_cleaned</th>\n",
       "      <th>lemmatized_text</th>\n",
       "      <th>split_text</th>\n",
       "    </tr>\n",
       "  </thead>\n",
       "  <tbody>\n",
       "    <tr>\n",
       "      <th>0</th>\n",
       "      <td>1</td>\n",
       "      <td>sucks It sucks barely picks up anything defini...</td>\n",
       "      <td>sucks It sucks barely picks up anything defini...</td>\n",
       "      <td>suck it suck barely pick up anything definitel...</td>\n",
       "      <td>['suck', 'it', 'suck', 'barely', 'pick', 'up',...</td>\n",
       "    </tr>\n",
       "    <tr>\n",
       "      <th>1</th>\n",
       "      <td>1</td>\n",
       "      <td>Defective Well to write a short one, it blew 2...</td>\n",
       "      <td>Defective Well to write short one it blew  fus...</td>\n",
       "      <td>defective Well to write short one it blow   fu...</td>\n",
       "      <td>['defective', 'well', 'to', 'write', 'short', ...</td>\n",
       "    </tr>\n",
       "    <tr>\n",
       "      <th>2</th>\n",
       "      <td>3</td>\n",
       "      <td>Looks cool! Probably works I have absolutely n...</td>\n",
       "      <td>Looks cool Probably works have absolutely no m...</td>\n",
       "      <td>look cool probably work have absolutely no mem...</td>\n",
       "      <td>['look', 'cool', 'probably', 'work', 'have', '...</td>\n",
       "    </tr>\n",
       "    <tr>\n",
       "      <th>3</th>\n",
       "      <td>5</td>\n",
       "      <td>Five Stars it ok it does it job</td>\n",
       "      <td>Five Stars it ok it does it job</td>\n",
       "      <td>five Stars it ok it do it job</td>\n",
       "      <td>['five', 'stars', 'it', 'ok', 'it', 'do', 'it'...</td>\n",
       "    </tr>\n",
       "    <tr>\n",
       "      <th>4</th>\n",
       "      <td>5</td>\n",
       "      <td>this have been great for my Ford transit conne...</td>\n",
       "      <td>this have been great for my Ford transit conne...</td>\n",
       "      <td>this have be great for my Ford transit connect...</td>\n",
       "      <td>['this', 'have', 'be', 'great', 'for', 'my', '...</td>\n",
       "    </tr>\n",
       "  </tbody>\n",
       "</table>\n",
       "</div>"
      ],
      "text/plain": [
       "   overall                                               text   \n",
       "0        1  sucks It sucks barely picks up anything defini...  \\\n",
       "1        1  Defective Well to write a short one, it blew 2...   \n",
       "2        3  Looks cool! Probably works I have absolutely n...   \n",
       "3        5                    Five Stars it ok it does it job   \n",
       "4        5  this have been great for my Ford transit conne...   \n",
       "\n",
       "                                        text_cleaned   \n",
       "0  sucks It sucks barely picks up anything defini...  \\\n",
       "1  Defective Well to write short one it blew  fus...   \n",
       "2  Looks cool Probably works have absolutely no m...   \n",
       "3                    Five Stars it ok it does it job   \n",
       "4  this have been great for my Ford transit conne...   \n",
       "\n",
       "                                     lemmatized_text   \n",
       "0  suck it suck barely pick up anything definitel...  \\\n",
       "1  defective Well to write short one it blow   fu...   \n",
       "2  look cool probably work have absolutely no mem...   \n",
       "3                      five Stars it ok it do it job   \n",
       "4  this have be great for my Ford transit connect...   \n",
       "\n",
       "                                          split_text  \n",
       "0  ['suck', 'it', 'suck', 'barely', 'pick', 'up',...  \n",
       "1  ['defective', 'well', 'to', 'write', 'short', ...  \n",
       "2  ['look', 'cool', 'probably', 'work', 'have', '...  \n",
       "3  ['five', 'stars', 'it', 'ok', 'it', 'do', 'it'...  \n",
       "4  ['this', 'have', 'be', 'great', 'for', 'my', '...  "
      ]
     },
     "execution_count": 145,
     "metadata": {},
     "output_type": "execute_result"
    }
   ],
   "source": [
    "data_test.head()"
   ]
  },
  {
   "cell_type": "code",
   "execution_count": null,
   "id": "3e0eb793-f9e8-4d8f-a590-252a2fd4de45",
   "metadata": {},
   "outputs": [],
   "source": []
  }
 ],
 "metadata": {
  "kernelspec": {
   "display_name": "Python 3 (ipykernel)",
   "language": "python",
   "name": "python3"
  },
  "language_info": {
   "codemirror_mode": {
    "name": "ipython",
    "version": 3
   },
   "file_extension": ".py",
   "mimetype": "text/x-python",
   "name": "python",
   "nbconvert_exporter": "python",
   "pygments_lexer": "ipython3",
   "version": "3.9.13"
  }
 },
 "nbformat": 4,
 "nbformat_minor": 5
}
