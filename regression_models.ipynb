{
 "cells": [
  {
   "cell_type": "code",
   "execution_count": 1,
   "id": "df9301be-bc7e-4fe4-bcde-09a54e5fd9eb",
   "metadata": {},
   "outputs": [],
   "source": [
    "import pandas as pd\n",
    "import numpy as np\n",
    "import matplotlib.pyplot as plt\n",
    "import re\n",
    "\n",
    "from sklearn.model_selection import train_test_split"
   ]
  },
  {
   "cell_type": "code",
   "execution_count": 2,
   "id": "6440a017-f296-4d6c-919f-76d337bf0820",
   "metadata": {},
   "outputs": [],
   "source": [
    "# Load data\n",
    "data = pd.read_json(\"dataset_1M.json\", lines=True)"
   ]
  },
  {
   "cell_type": "code",
   "execution_count": 3,
   "id": "5bb32ffd-09d0-4349-ab3b-44dfb1706597",
   "metadata": {},
   "outputs": [
    {
     "data": {
      "text/plain": [
       "overall           1000000\n",
       "verified          1000000\n",
       "reviewTime        1000000\n",
       "reviewerID        1000000\n",
       "asin              1000000\n",
       "style              358331\n",
       "reviewerName       999917\n",
       "reviewText         999636\n",
       "summary            999862\n",
       "unixReviewTime    1000000\n",
       "vote               121947\n",
       "image               16345\n",
       "dtype: int64"
      ]
     },
     "execution_count": 3,
     "metadata": {},
     "output_type": "execute_result"
    }
   ],
   "source": [
    "data.count()"
   ]
  },
  {
   "cell_type": "code",
   "execution_count": 4,
   "id": "9b0187dd-3fb3-4aa3-9a9e-4b06bfccb589",
   "metadata": {},
   "outputs": [
    {
     "data": {
      "text/plain": [
       "overall           947137\n",
       "verified          947137\n",
       "reviewTime        947137\n",
       "reviewerID        947137\n",
       "asin              947137\n",
       "style             337257\n",
       "reviewerName      947064\n",
       "reviewText        946798\n",
       "summary           947005\n",
       "unixReviewTime    947137\n",
       "vote              111510\n",
       "image              14906\n",
       "dtype: int64"
      ]
     },
     "execution_count": 4,
     "metadata": {},
     "output_type": "execute_result"
    }
   ],
   "source": [
    "# Remove all non-verified buyers\n",
    "data = data[data.verified]\n",
    "data.count()"
   ]
  },
  {
   "cell_type": "code",
   "execution_count": 5,
   "id": "45282651-a62d-4dc5-b4e6-5f164ac23ac0",
   "metadata": {},
   "outputs": [
    {
     "data": {
      "text/plain": [
       "overall           946798\n",
       "verified          946798\n",
       "reviewTime        946798\n",
       "reviewerID        946798\n",
       "asin              946798\n",
       "style             337128\n",
       "reviewerName      946725\n",
       "reviewText        946798\n",
       "summary           946674\n",
       "unixReviewTime    946798\n",
       "vote              111487\n",
       "image              14832\n",
       "dtype: int64"
      ]
     },
     "execution_count": 5,
     "metadata": {},
     "output_type": "execute_result"
    }
   ],
   "source": [
    "# Remove all reviews without text\n",
    "data = data[data.reviewText.notna()]\n",
    "data.count()"
   ]
  },
  {
   "cell_type": "code",
   "execution_count": 6,
   "id": "d002d3cb-39db-4729-ade1-35f24013b936",
   "metadata": {},
   "outputs": [
    {
     "data": {
      "text/html": [
       "<div>\n",
       "<style scoped>\n",
       "    .dataframe tbody tr th:only-of-type {\n",
       "        vertical-align: middle;\n",
       "    }\n",
       "\n",
       "    .dataframe tbody tr th {\n",
       "        vertical-align: top;\n",
       "    }\n",
       "\n",
       "    .dataframe thead th {\n",
       "        text-align: right;\n",
       "    }\n",
       "</style>\n",
       "<table border=\"1\" class=\"dataframe\">\n",
       "  <thead>\n",
       "    <tr style=\"text-align: right;\">\n",
       "      <th></th>\n",
       "      <th>overall</th>\n",
       "      <th>reviewText</th>\n",
       "      <th>summary</th>\n",
       "    </tr>\n",
       "  </thead>\n",
       "  <tbody>\n",
       "    <tr>\n",
       "      <th>1</th>\n",
       "      <td>1</td>\n",
       "      <td>It sucks barely picks up anything definitely n...</td>\n",
       "      <td>sucks</td>\n",
       "    </tr>\n",
       "    <tr>\n",
       "      <th>2</th>\n",
       "      <td>1</td>\n",
       "      <td>Well to write a short one, it blew 2 fuses of ...</td>\n",
       "      <td>Defective</td>\n",
       "    </tr>\n",
       "    <tr>\n",
       "      <th>3</th>\n",
       "      <td>3</td>\n",
       "      <td>I have absolutely no memory of buying this but...</td>\n",
       "      <td>Looks cool! Probably works</td>\n",
       "    </tr>\n",
       "    <tr>\n",
       "      <th>4</th>\n",
       "      <td>5</td>\n",
       "      <td>it ok it does it job</td>\n",
       "      <td>Five Stars</td>\n",
       "    </tr>\n",
       "    <tr>\n",
       "      <th>5</th>\n",
       "      <td>5</td>\n",
       "      <td>Have 3 big dogs. this have been great for my F...</td>\n",
       "      <td>this have been great for my Ford transit connect</td>\n",
       "    </tr>\n",
       "  </tbody>\n",
       "</table>\n",
       "</div>"
      ],
      "text/plain": [
       "   overall                                         reviewText   \n",
       "1        1  It sucks barely picks up anything definitely n...  \\\n",
       "2        1  Well to write a short one, it blew 2 fuses of ...   \n",
       "3        3  I have absolutely no memory of buying this but...   \n",
       "4        5                               it ok it does it job   \n",
       "5        5  Have 3 big dogs. this have been great for my F...   \n",
       "\n",
       "                                            summary  \n",
       "1                                             sucks  \n",
       "2                                         Defective  \n",
       "3                        Looks cool! Probably works  \n",
       "4                                        Five Stars  \n",
       "5  this have been great for my Ford transit connect  "
      ]
     },
     "execution_count": 6,
     "metadata": {},
     "output_type": "execute_result"
    }
   ],
   "source": [
    "# Leave only \"overall\", \"reviewText\" and \"summary\"\n",
    "data = data[[\"overall\", \"reviewText\", \"summary\"]]\n",
    "data.head()"
   ]
  },
  {
   "cell_type": "code",
   "execution_count": 7,
   "id": "d92c6dc9-abf6-454d-b8b1-7b27b27d4821",
   "metadata": {},
   "outputs": [
    {
     "data": {
      "text/plain": [
       "overall       946798\n",
       "reviewText    946798\n",
       "summary       946798\n",
       "dtype: int64"
      ]
     },
     "execution_count": 7,
     "metadata": {},
     "output_type": "execute_result"
    }
   ],
   "source": [
    "# Fill empty summaries\n",
    "data = data.fillna(\"\")\n",
    "data.count()"
   ]
  },
  {
   "cell_type": "code",
   "execution_count": 8,
   "id": "1c29e18c-d791-4407-b4b7-598a58912b3b",
   "metadata": {},
   "outputs": [
    {
     "data": {
      "text/html": [
       "<div>\n",
       "<style scoped>\n",
       "    .dataframe tbody tr th:only-of-type {\n",
       "        vertical-align: middle;\n",
       "    }\n",
       "\n",
       "    .dataframe tbody tr th {\n",
       "        vertical-align: top;\n",
       "    }\n",
       "\n",
       "    .dataframe thead th {\n",
       "        text-align: right;\n",
       "    }\n",
       "</style>\n",
       "<table border=\"1\" class=\"dataframe\">\n",
       "  <thead>\n",
       "    <tr style=\"text-align: right;\">\n",
       "      <th></th>\n",
       "      <th>overall</th>\n",
       "      <th>text</th>\n",
       "    </tr>\n",
       "  </thead>\n",
       "  <tbody>\n",
       "    <tr>\n",
       "      <th>1</th>\n",
       "      <td>1</td>\n",
       "      <td>sucks It sucks barely picks up anything defini...</td>\n",
       "    </tr>\n",
       "    <tr>\n",
       "      <th>2</th>\n",
       "      <td>1</td>\n",
       "      <td>Defective Well to write a short one, it blew 2...</td>\n",
       "    </tr>\n",
       "    <tr>\n",
       "      <th>3</th>\n",
       "      <td>3</td>\n",
       "      <td>Looks cool! Probably works I have absolutely n...</td>\n",
       "    </tr>\n",
       "    <tr>\n",
       "      <th>4</th>\n",
       "      <td>5</td>\n",
       "      <td>Five Stars it ok it does it job</td>\n",
       "    </tr>\n",
       "    <tr>\n",
       "      <th>5</th>\n",
       "      <td>5</td>\n",
       "      <td>this have been great for my Ford transit conne...</td>\n",
       "    </tr>\n",
       "  </tbody>\n",
       "</table>\n",
       "</div>"
      ],
      "text/plain": [
       "   overall                                               text\n",
       "1        1  sucks It sucks barely picks up anything defini...\n",
       "2        1  Defective Well to write a short one, it blew 2...\n",
       "3        3  Looks cool! Probably works I have absolutely n...\n",
       "4        5                    Five Stars it ok it does it job\n",
       "5        5  this have been great for my Ford transit conne..."
      ]
     },
     "execution_count": 8,
     "metadata": {},
     "output_type": "execute_result"
    }
   ],
   "source": [
    "# Join \"summary\" and \"reviewText\" into one feature \"text\"\n",
    "data[\"space\"] = \" \"\n",
    "data[\"text\"] = data.summary + data.space + data.reviewText\n",
    "data = data[[\"overall\", \"text\"]]\n",
    "data.head()"
   ]
  },
  {
   "cell_type": "code",
   "execution_count": null,
   "id": "48187a71-a3bb-4049-b8da-f428af896d1a",
   "metadata": {},
   "outputs": [],
   "source": [
    "# Remove HTML from text\n",
    "CLEANR_HTML = re.compile('<.*?>')\n",
    "\n",
    "def clean_html(text, axis=1):\n",
    "    cleantext = [re.sub(CLEANR, '', line) for line in text]\n",
    "    return cleantext\n",
    "\n",
    "data.text_cleaned = data.text.apply(clean_html)\n",
    "data.head()"
   ]
  },
  {
   "cell_type": "code",
   "execution_count": 19,
   "id": "9f457b33-6494-4eb6-8bb1-bfa98391a1c8",
   "metadata": {},
   "outputs": [],
   "source": [
    "# Remove special characters from text\n",
    "CLEANR_SPECIAL = re.compile(\"\\W\")\n",
    "\n",
    "def clean_special(text):\n",
    "    cleantext = [re.sub(CLEANR_SPECIAL, '', line) for line in text]\n",
    "    return cleantext\n",
    "\n",
    "data.text_cleaned = data.text.apply(clean_special)"
   ]
  },
  {
   "cell_type": "code",
   "execution_count": 28,
   "id": "df6dd16d-e17a-4949-9d31-7f97523f9519",
   "metadata": {},
   "outputs": [
    {
     "data": {
      "text/html": [
       "<div>\n",
       "<style scoped>\n",
       "    .dataframe tbody tr th:only-of-type {\n",
       "        vertical-align: middle;\n",
       "    }\n",
       "\n",
       "    .dataframe tbody tr th {\n",
       "        vertical-align: top;\n",
       "    }\n",
       "\n",
       "    .dataframe thead th {\n",
       "        text-align: right;\n",
       "    }\n",
       "</style>\n",
       "<table border=\"1\" class=\"dataframe\">\n",
       "  <thead>\n",
       "    <tr style=\"text-align: right;\">\n",
       "      <th></th>\n",
       "      <th>overall</th>\n",
       "      <th>text</th>\n",
       "    </tr>\n",
       "  </thead>\n",
       "  <tbody>\n",
       "    <tr>\n",
       "      <th>1</th>\n",
       "      <td>1</td>\n",
       "      <td>[s, u, c, k, s,  , I, t,  , s, u, c, k, s,  , ...</td>\n",
       "    </tr>\n",
       "    <tr>\n",
       "      <th>2</th>\n",
       "      <td>1</td>\n",
       "      <td>[D, e, f, e, c, t, i, v, e,  , W, e, l, l,  , ...</td>\n",
       "    </tr>\n",
       "    <tr>\n",
       "      <th>3</th>\n",
       "      <td>3</td>\n",
       "      <td>[L, o, o, k, s,  , c, o, o, l, !,  , P, r, o, ...</td>\n",
       "    </tr>\n",
       "    <tr>\n",
       "      <th>4</th>\n",
       "      <td>5</td>\n",
       "      <td>[F, i, v, e,  , S, t, a, r, s,  , i, t,  , o, ...</td>\n",
       "    </tr>\n",
       "    <tr>\n",
       "      <th>5</th>\n",
       "      <td>5</td>\n",
       "      <td>[t, h, i, s,  , h, a, v, e,  , b, e, e, n,  , ...</td>\n",
       "    </tr>\n",
       "  </tbody>\n",
       "</table>\n",
       "</div>"
      ],
      "text/plain": [
       "   overall                                               text\n",
       "1        1  [s, u, c, k, s,  , I, t,  , s, u, c, k, s,  , ...\n",
       "2        1  [D, e, f, e, c, t, i, v, e,  , W, e, l, l,  , ...\n",
       "3        3  [L, o, o, k, s,  , c, o, o, l, !,  , P, r, o, ...\n",
       "4        5  [F, i, v, e,  , S, t, a, r, s,  , i, t,  , o, ...\n",
       "5        5  [t, h, i, s,  , h, a, v, e,  , b, e, e, n,  , ..."
      ]
     },
     "execution_count": 28,
     "metadata": {},
     "output_type": "execute_result"
    }
   ],
   "source": [
    "data.head()"
   ]
  },
  {
   "cell_type": "code",
   "execution_count": null,
   "id": "4635b3d5-1a68-4341-b6a3-45da0de9d634",
   "metadata": {},
   "outputs": [],
   "source": []
  }
 ],
 "metadata": {
  "kernelspec": {
   "display_name": "Python 3 (ipykernel)",
   "language": "python",
   "name": "python3"
  },
  "language_info": {
   "codemirror_mode": {
    "name": "ipython",
    "version": 3
   },
   "file_extension": ".py",
   "mimetype": "text/x-python",
   "name": "python",
   "nbconvert_exporter": "python",
   "pygments_lexer": "ipython3",
   "version": "3.9.13"
  }
 },
 "nbformat": 4,
 "nbformat_minor": 5
}
