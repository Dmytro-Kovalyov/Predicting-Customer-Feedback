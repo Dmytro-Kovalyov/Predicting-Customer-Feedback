{
 "cells": [
  {
   "cell_type": "code",
   "execution_count": 1,
   "id": "5be751ba-0123-4032-8d23-19c4f1137cef",
   "metadata": {},
   "outputs": [],
   "source": [
    "import pandas as pd\n",
    "import numpy as np\n",
    "import matplotlib.pyplot as plt\n",
    "import tensorflow as tf\n",
    "from tensorflow import keras\n",
    "\n",
    "import tensorflow_hub as hub\n",
    "import tensorflow_text as text\n",
    "\n",
    "from tensorflow.keras import layers\n",
    "from tensorflow.keras import metrics\n",
    "from tensorflow.keras import Model\n",
    "from tensorflow.keras.utils import Sequence\n",
    "\n",
    "from sklearn.model_selection import train_test_split\n",
    "from sklearn.metrics import mean_squared_error\n",
    "from sklearn.metrics import r2_score\n",
    "\n",
    "# Set fp16\n",
    "#from tensorflow.keras import mixed_precision\n",
    "#policy = mixed_precision.Policy('mixed_float16')\n",
    "#mixed_precision.set_global_policy(policy)"
   ]
  },
  {
   "cell_type": "code",
   "execution_count": 42,
   "id": "723e2f60-c656-4a28-bf0e-97e8e095debf",
   "metadata": {},
   "outputs": [],
   "source": [
    "# Load data\n",
    "data = pd.read_csv(\"saved_data/data.csv\")"
   ]
  },
  {
   "cell_type": "code",
   "execution_count": 43,
   "id": "1c25f953-40fa-4622-b49b-ae540b50d956",
   "metadata": {},
   "outputs": [],
   "source": [
    "# Drop unnecessary columns\n",
    "data = data.drop(labels=[\"text\", \"lemmatized_text\", \"split_text\", \"text_indeces\", \"overall\"], axis=1)"
   ]
  },
  {
   "cell_type": "code",
   "execution_count": 4,
   "id": "6fb80656-e87c-48af-83ec-e44090f06d96",
   "metadata": {},
   "outputs": [],
   "source": [
    "def preprocessor_model(seq_length = 128):\n",
    "    preprocessor = hub.load(\n",
    "        \"https://tfhub.dev/tensorflow/bert_en_uncased_preprocess/3\")\n",
    "\n",
    "    # Tokenize batches of text inputs.\n",
    "    text_inputs = [layers.Input(shape=(), dtype=tf.string)]\n",
    "    tokenize = hub.KerasLayer(preprocessor.tokenize)\n",
    "    tokenized_inputs = [tokenize(segment) for segment in text_inputs]\n",
    "\n",
    "    # Pack input sequences for the Transformer encoder.\n",
    "    bert_pack_inputs = hub.KerasLayer(\n",
    "        preprocessor.bert_pack_inputs,\n",
    "        arguments=dict(seq_length=seq_length))\n",
    "    encoder_inputs = bert_pack_inputs(tokenized_inputs)\n",
    "    \n",
    "    return Model(inputs=text_inputs, outputs=encoder_inputs) "
   ]
  },
  {
   "cell_type": "code",
   "execution_count": 5,
   "id": "c0fedcf7-5dc0-4c0b-8b45-108b5c928561",
   "metadata": {},
   "outputs": [
    {
     "name": "stdout",
     "output_type": "stream",
     "text": [
      "Model: \"model\"\n",
      "_________________________________________________________________\n",
      " Layer (type)                Output Shape              Param #   \n",
      "=================================================================\n",
      " input_1 (InputLayer)        [(None,)]                 0         \n",
      "                                                                 \n",
      " keras_layer (KerasLayer)    (None, None, None)        0         \n",
      "                                                                 \n",
      " keras_layer_1 (KerasLayer)  {'input_word_ids': (None  0         \n",
      "                             , 128),                             \n",
      "                              'input_mask': (None, 12            \n",
      "                             8),                                 \n",
      "                              'input_type_ids': (None            \n",
      "                             , 128)}                             \n",
      "                                                                 \n",
      "=================================================================\n",
      "Total params: 0\n",
      "Trainable params: 0\n",
      "Non-trainable params: 0\n",
      "_________________________________________________________________\n"
     ]
    }
   ],
   "source": [
    "# Load preprocessor model\n",
    "preprocessor = preprocessor_model()\n",
    "preprocessor.summary()"
   ]
  },
  {
   "cell_type": "code",
   "execution_count": 7,
   "id": "1251951b-bee2-4fb3-9ed9-0da746a0a9c8",
   "metadata": {},
   "outputs": [
    {
     "name": "stdout",
     "output_type": "stream",
     "text": [
      "29584/29584 [==============================] - 3536s 120ms/step\n"
     ]
    }
   ],
   "source": [
    "# Preprocess data\n",
    "preprocessed_data = preprocessor.predict(data[\"text_cleaned\"])"
   ]
  },
  {
   "cell_type": "code",
   "execution_count": 35,
   "id": "fd8bffed-14d9-4268-bb2c-a0112a031342",
   "metadata": {},
   "outputs": [],
   "source": [
    "preprocessed_data_lists = {}\n",
    "preprocessed_data_lists[\"input_word_ids\"] = preprocessed_data[\"input_word_ids\"].tolist()\n",
    "preprocessed_data_lists[\"input_mask\"] = preprocessed_data[\"input_mask\"].tolist()\n",
    "preprocessed_data_lists[\"input_type_ids\"] = preprocessed_data[\"input_type_ids\"].tolist()"
   ]
  },
  {
   "cell_type": "code",
   "execution_count": 77,
   "id": "8a1be89a-0da6-4000-a4ea-661af3b3089d",
   "metadata": {},
   "outputs": [
    {
     "data": {
      "text/html": [
       "<div>\n",
       "<style scoped>\n",
       "    .dataframe tbody tr th:only-of-type {\n",
       "        vertical-align: middle;\n",
       "    }\n",
       "\n",
       "    .dataframe tbody tr th {\n",
       "        vertical-align: top;\n",
       "    }\n",
       "\n",
       "    .dataframe thead th {\n",
       "        text-align: right;\n",
       "    }\n",
       "</style>\n",
       "<table border=\"1\" class=\"dataframe\">\n",
       "  <thead>\n",
       "    <tr style=\"text-align: right;\">\n",
       "      <th></th>\n",
       "      <th>text_cleaned</th>\n",
       "      <th>y</th>\n",
       "      <th>input_word_ids</th>\n",
       "      <th>input_mask</th>\n",
       "      <th>input_type_ids</th>\n",
       "    </tr>\n",
       "  </thead>\n",
       "  <tbody>\n",
       "    <tr>\n",
       "      <th>0</th>\n",
       "      <td>sucks It sucks barely picks up anything defini...</td>\n",
       "      <td>0.2</td>\n",
       "      <td>[101, 19237, 2009, 19237, 4510, 11214, 2039, 2...</td>\n",
       "      <td>[1, 1, 1, 1, 1, 1, 1, 1, 1, 1, 1, 1, 1, 1, 1, ...</td>\n",
       "      <td>[0, 0, 0, 0, 0, 0, 0, 0, 0, 0, 0, 0, 0, 0, 0, ...</td>\n",
       "    </tr>\n",
       "    <tr>\n",
       "      <th>1</th>\n",
       "      <td>Defective Well to write short one it blew  fus...</td>\n",
       "      <td>0.2</td>\n",
       "      <td>[101, 28829, 2092, 2000, 4339, 2460, 2028, 200...</td>\n",
       "      <td>[1, 1, 1, 1, 1, 1, 1, 1, 1, 1, 1, 1, 1, 1, 1, ...</td>\n",
       "      <td>[0, 0, 0, 0, 0, 0, 0, 0, 0, 0, 0, 0, 0, 0, 0, ...</td>\n",
       "    </tr>\n",
       "    <tr>\n",
       "      <th>2</th>\n",
       "      <td>Looks cool Probably works have absolutely no m...</td>\n",
       "      <td>0.6</td>\n",
       "      <td>[101, 3504, 4658, 2763, 2573, 2031, 7078, 2053...</td>\n",
       "      <td>[1, 1, 1, 1, 1, 1, 1, 1, 1, 1, 1, 1, 1, 1, 1, ...</td>\n",
       "      <td>[0, 0, 0, 0, 0, 0, 0, 0, 0, 0, 0, 0, 0, 0, 0, ...</td>\n",
       "    </tr>\n",
       "    <tr>\n",
       "      <th>3</th>\n",
       "      <td>Five Stars it ok it does it job</td>\n",
       "      <td>1.0</td>\n",
       "      <td>[101, 2274, 3340, 2009, 7929, 2009, 2515, 2009...</td>\n",
       "      <td>[1, 1, 1, 1, 1, 1, 1, 1, 1, 1, 0, 0, 0, 0, 0, ...</td>\n",
       "      <td>[0, 0, 0, 0, 0, 0, 0, 0, 0, 0, 0, 0, 0, 0, 0, ...</td>\n",
       "    </tr>\n",
       "    <tr>\n",
       "      <th>4</th>\n",
       "      <td>this have been great for my Ford transit conne...</td>\n",
       "      <td>1.0</td>\n",
       "      <td>[101, 2023, 2031, 2042, 2307, 2005, 2026, 4811...</td>\n",
       "      <td>[1, 1, 1, 1, 1, 1, 1, 1, 1, 1, 1, 1, 1, 1, 1, ...</td>\n",
       "      <td>[0, 0, 0, 0, 0, 0, 0, 0, 0, 0, 0, 0, 0, 0, 0, ...</td>\n",
       "    </tr>\n",
       "    <tr>\n",
       "      <th>...</th>\n",
       "      <td>...</td>\n",
       "      <td>...</td>\n",
       "      <td>...</td>\n",
       "      <td>...</td>\n",
       "      <td>...</td>\n",
       "    </tr>\n",
       "    <tr>\n",
       "      <th>946654</th>\n",
       "      <td>works great just what needed to see what amps ...</td>\n",
       "      <td>1.0</td>\n",
       "      <td>[101, 2573, 2307, 2074, 2054, 2734, 2000, 2156...</td>\n",
       "      <td>[1, 1, 1, 1, 1, 1, 1, 1, 1, 1, 1, 1, 1, 1, 1, ...</td>\n",
       "      <td>[0, 0, 0, 0, 0, 0, 0, 0, 0, 0, 0, 0, 0, 0, 0, ...</td>\n",
       "    </tr>\n",
       "    <tr>\n",
       "      <th>946655</th>\n",
       "      <td>Five Stars Really good just need to be calibra...</td>\n",
       "      <td>1.0</td>\n",
       "      <td>[101, 2274, 3340, 2428, 2204, 2074, 2342, 2000...</td>\n",
       "      <td>[1, 1, 1, 1, 1, 1, 1, 1, 1, 1, 1, 1, 1, 1, 1, ...</td>\n",
       "      <td>[0, 0, 0, 0, 0, 0, 0, 0, 0, 0, 0, 0, 0, 0, 0, ...</td>\n",
       "    </tr>\n",
       "    <tr>\n",
       "      <th>946656</th>\n",
       "      <td>Nice product at bargain price Last year bought...</td>\n",
       "      <td>1.0</td>\n",
       "      <td>[101, 3835, 4031, 2012, 17113, 3976, 2197, 209...</td>\n",
       "      <td>[1, 1, 1, 1, 1, 1, 1, 1, 1, 1, 1, 1, 1, 1, 1, ...</td>\n",
       "      <td>[0, 0, 0, 0, 0, 0, 0, 0, 0, 0, 0, 0, 0, 0, 0, ...</td>\n",
       "    </tr>\n",
       "    <tr>\n",
       "      <th>946657</th>\n",
       "      <td>Digital meter This is great product  Well manu...</td>\n",
       "      <td>1.0</td>\n",
       "      <td>[101, 3617, 8316, 2023, 2003, 2307, 4031, 2092...</td>\n",
       "      <td>[1, 1, 1, 1, 1, 1, 1, 1, 1, 1, 1, 1, 1, 1, 1, ...</td>\n",
       "      <td>[0, 0, 0, 0, 0, 0, 0, 0, 0, 0, 0, 0, 0, 0, 0, ...</td>\n",
       "    </tr>\n",
       "    <tr>\n",
       "      <th>946658</th>\n",
       "      <td>Excellent Excellent</td>\n",
       "      <td>1.0</td>\n",
       "      <td>[101, 6581, 6581, 102, 0, 0, 0, 0, 0, 0, 0, 0,...</td>\n",
       "      <td>[1, 1, 1, 1, 0, 0, 0, 0, 0, 0, 0, 0, 0, 0, 0, ...</td>\n",
       "      <td>[0, 0, 0, 0, 0, 0, 0, 0, 0, 0, 0, 0, 0, 0, 0, ...</td>\n",
       "    </tr>\n",
       "  </tbody>\n",
       "</table>\n",
       "<p>946659 rows × 5 columns</p>\n",
       "</div>"
      ],
      "text/plain": [
       "                                             text_cleaned    y  \\\n",
       "0       sucks It sucks barely picks up anything defini...  0.2   \n",
       "1       Defective Well to write short one it blew  fus...  0.2   \n",
       "2       Looks cool Probably works have absolutely no m...  0.6   \n",
       "3                         Five Stars it ok it does it job  1.0   \n",
       "4       this have been great for my Ford transit conne...  1.0   \n",
       "...                                                   ...  ...   \n",
       "946654  works great just what needed to see what amps ...  1.0   \n",
       "946655  Five Stars Really good just need to be calibra...  1.0   \n",
       "946656  Nice product at bargain price Last year bought...  1.0   \n",
       "946657  Digital meter This is great product  Well manu...  1.0   \n",
       "946658                                Excellent Excellent  1.0   \n",
       "\n",
       "                                           input_word_ids  \\\n",
       "0       [101, 19237, 2009, 19237, 4510, 11214, 2039, 2...   \n",
       "1       [101, 28829, 2092, 2000, 4339, 2460, 2028, 200...   \n",
       "2       [101, 3504, 4658, 2763, 2573, 2031, 7078, 2053...   \n",
       "3       [101, 2274, 3340, 2009, 7929, 2009, 2515, 2009...   \n",
       "4       [101, 2023, 2031, 2042, 2307, 2005, 2026, 4811...   \n",
       "...                                                   ...   \n",
       "946654  [101, 2573, 2307, 2074, 2054, 2734, 2000, 2156...   \n",
       "946655  [101, 2274, 3340, 2428, 2204, 2074, 2342, 2000...   \n",
       "946656  [101, 3835, 4031, 2012, 17113, 3976, 2197, 209...   \n",
       "946657  [101, 3617, 8316, 2023, 2003, 2307, 4031, 2092...   \n",
       "946658  [101, 6581, 6581, 102, 0, 0, 0, 0, 0, 0, 0, 0,...   \n",
       "\n",
       "                                               input_mask  \\\n",
       "0       [1, 1, 1, 1, 1, 1, 1, 1, 1, 1, 1, 1, 1, 1, 1, ...   \n",
       "1       [1, 1, 1, 1, 1, 1, 1, 1, 1, 1, 1, 1, 1, 1, 1, ...   \n",
       "2       [1, 1, 1, 1, 1, 1, 1, 1, 1, 1, 1, 1, 1, 1, 1, ...   \n",
       "3       [1, 1, 1, 1, 1, 1, 1, 1, 1, 1, 0, 0, 0, 0, 0, ...   \n",
       "4       [1, 1, 1, 1, 1, 1, 1, 1, 1, 1, 1, 1, 1, 1, 1, ...   \n",
       "...                                                   ...   \n",
       "946654  [1, 1, 1, 1, 1, 1, 1, 1, 1, 1, 1, 1, 1, 1, 1, ...   \n",
       "946655  [1, 1, 1, 1, 1, 1, 1, 1, 1, 1, 1, 1, 1, 1, 1, ...   \n",
       "946656  [1, 1, 1, 1, 1, 1, 1, 1, 1, 1, 1, 1, 1, 1, 1, ...   \n",
       "946657  [1, 1, 1, 1, 1, 1, 1, 1, 1, 1, 1, 1, 1, 1, 1, ...   \n",
       "946658  [1, 1, 1, 1, 0, 0, 0, 0, 0, 0, 0, 0, 0, 0, 0, ...   \n",
       "\n",
       "                                           input_type_ids  \n",
       "0       [0, 0, 0, 0, 0, 0, 0, 0, 0, 0, 0, 0, 0, 0, 0, ...  \n",
       "1       [0, 0, 0, 0, 0, 0, 0, 0, 0, 0, 0, 0, 0, 0, 0, ...  \n",
       "2       [0, 0, 0, 0, 0, 0, 0, 0, 0, 0, 0, 0, 0, 0, 0, ...  \n",
       "3       [0, 0, 0, 0, 0, 0, 0, 0, 0, 0, 0, 0, 0, 0, 0, ...  \n",
       "4       [0, 0, 0, 0, 0, 0, 0, 0, 0, 0, 0, 0, 0, 0, 0, ...  \n",
       "...                                                   ...  \n",
       "946654  [0, 0, 0, 0, 0, 0, 0, 0, 0, 0, 0, 0, 0, 0, 0, ...  \n",
       "946655  [0, 0, 0, 0, 0, 0, 0, 0, 0, 0, 0, 0, 0, 0, 0, ...  \n",
       "946656  [0, 0, 0, 0, 0, 0, 0, 0, 0, 0, 0, 0, 0, 0, 0, ...  \n",
       "946657  [0, 0, 0, 0, 0, 0, 0, 0, 0, 0, 0, 0, 0, 0, 0, ...  \n",
       "946658  [0, 0, 0, 0, 0, 0, 0, 0, 0, 0, 0, 0, 0, 0, 0, ...  \n",
       "\n",
       "[946659 rows x 5 columns]"
      ]
     },
     "execution_count": 77,
     "metadata": {},
     "output_type": "execute_result"
    }
   ],
   "source": [
    "# Append processed data to the dataframe\n",
    "df_dictionary = pd.DataFrame.from_dict(preprocessed_data_lists)\n",
    "data = pd.concat([data, df_dictionary], axis=1)\n",
    "data"
   ]
  },
  {
   "cell_type": "code",
   "execution_count": 3,
   "id": "16c2aaf1-ab42-413d-92f7-e3ecfcd6c2dc",
   "metadata": {},
   "outputs": [],
   "source": [
    "file_path = \"saved_data/bert_data.json\""
   ]
  },
  {
   "cell_type": "code",
   "execution_count": 170,
   "id": "167288b5-28cb-43b6-a7d2-430cea04d968",
   "metadata": {},
   "outputs": [],
   "source": [
    "# Save data to file\n",
    "data.to_json(file_path, orient=\"records\", lines=True)"
   ]
  },
  {
   "cell_type": "code",
   "execution_count": 4,
   "id": "d1edda71-4f41-4ef0-a179-502908982309",
   "metadata": {},
   "outputs": [
    {
     "data": {
      "text/html": [
       "<div>\n",
       "<style scoped>\n",
       "    .dataframe tbody tr th:only-of-type {\n",
       "        vertical-align: middle;\n",
       "    }\n",
       "\n",
       "    .dataframe tbody tr th {\n",
       "        vertical-align: top;\n",
       "    }\n",
       "\n",
       "    .dataframe thead th {\n",
       "        text-align: right;\n",
       "    }\n",
       "</style>\n",
       "<table border=\"1\" class=\"dataframe\">\n",
       "  <thead>\n",
       "    <tr style=\"text-align: right;\">\n",
       "      <th></th>\n",
       "      <th>text_cleaned</th>\n",
       "      <th>y</th>\n",
       "      <th>input_word_ids</th>\n",
       "      <th>input_mask</th>\n",
       "      <th>input_type_ids</th>\n",
       "    </tr>\n",
       "  </thead>\n",
       "  <tbody>\n",
       "    <tr>\n",
       "      <th>0</th>\n",
       "      <td>sucks It sucks barely picks up anything defini...</td>\n",
       "      <td>0.2</td>\n",
       "      <td>[101, 19237, 2009, 19237, 4510, 11214, 2039, 2...</td>\n",
       "      <td>[1, 1, 1, 1, 1, 1, 1, 1, 1, 1, 1, 1, 1, 1, 1, ...</td>\n",
       "      <td>[0, 0, 0, 0, 0, 0, 0, 0, 0, 0, 0, 0, 0, 0, 0, ...</td>\n",
       "    </tr>\n",
       "    <tr>\n",
       "      <th>1</th>\n",
       "      <td>Defective Well to write short one it blew  fus...</td>\n",
       "      <td>0.2</td>\n",
       "      <td>[101, 28829, 2092, 2000, 4339, 2460, 2028, 200...</td>\n",
       "      <td>[1, 1, 1, 1, 1, 1, 1, 1, 1, 1, 1, 1, 1, 1, 1, ...</td>\n",
       "      <td>[0, 0, 0, 0, 0, 0, 0, 0, 0, 0, 0, 0, 0, 0, 0, ...</td>\n",
       "    </tr>\n",
       "    <tr>\n",
       "      <th>2</th>\n",
       "      <td>Looks cool Probably works have absolutely no m...</td>\n",
       "      <td>0.6</td>\n",
       "      <td>[101, 3504, 4658, 2763, 2573, 2031, 7078, 2053...</td>\n",
       "      <td>[1, 1, 1, 1, 1, 1, 1, 1, 1, 1, 1, 1, 1, 1, 1, ...</td>\n",
       "      <td>[0, 0, 0, 0, 0, 0, 0, 0, 0, 0, 0, 0, 0, 0, 0, ...</td>\n",
       "    </tr>\n",
       "    <tr>\n",
       "      <th>3</th>\n",
       "      <td>Five Stars it ok it does it job</td>\n",
       "      <td>1.0</td>\n",
       "      <td>[101, 2274, 3340, 2009, 7929, 2009, 2515, 2009...</td>\n",
       "      <td>[1, 1, 1, 1, 1, 1, 1, 1, 1, 1, 0, 0, 0, 0, 0, ...</td>\n",
       "      <td>[0, 0, 0, 0, 0, 0, 0, 0, 0, 0, 0, 0, 0, 0, 0, ...</td>\n",
       "    </tr>\n",
       "    <tr>\n",
       "      <th>4</th>\n",
       "      <td>this have been great for my Ford transit conne...</td>\n",
       "      <td>1.0</td>\n",
       "      <td>[101, 2023, 2031, 2042, 2307, 2005, 2026, 4811...</td>\n",
       "      <td>[1, 1, 1, 1, 1, 1, 1, 1, 1, 1, 1, 1, 1, 1, 1, ...</td>\n",
       "      <td>[0, 0, 0, 0, 0, 0, 0, 0, 0, 0, 0, 0, 0, 0, 0, ...</td>\n",
       "    </tr>\n",
       "  </tbody>\n",
       "</table>\n",
       "</div>"
      ],
      "text/plain": [
       "                                        text_cleaned    y  \\\n",
       "0  sucks It sucks barely picks up anything defini...  0.2   \n",
       "1  Defective Well to write short one it blew  fus...  0.2   \n",
       "2  Looks cool Probably works have absolutely no m...  0.6   \n",
       "3                    Five Stars it ok it does it job  1.0   \n",
       "4  this have been great for my Ford transit conne...  1.0   \n",
       "\n",
       "                                      input_word_ids  \\\n",
       "0  [101, 19237, 2009, 19237, 4510, 11214, 2039, 2...   \n",
       "1  [101, 28829, 2092, 2000, 4339, 2460, 2028, 200...   \n",
       "2  [101, 3504, 4658, 2763, 2573, 2031, 7078, 2053...   \n",
       "3  [101, 2274, 3340, 2009, 7929, 2009, 2515, 2009...   \n",
       "4  [101, 2023, 2031, 2042, 2307, 2005, 2026, 4811...   \n",
       "\n",
       "                                          input_mask  \\\n",
       "0  [1, 1, 1, 1, 1, 1, 1, 1, 1, 1, 1, 1, 1, 1, 1, ...   \n",
       "1  [1, 1, 1, 1, 1, 1, 1, 1, 1, 1, 1, 1, 1, 1, 1, ...   \n",
       "2  [1, 1, 1, 1, 1, 1, 1, 1, 1, 1, 1, 1, 1, 1, 1, ...   \n",
       "3  [1, 1, 1, 1, 1, 1, 1, 1, 1, 1, 0, 0, 0, 0, 0, ...   \n",
       "4  [1, 1, 1, 1, 1, 1, 1, 1, 1, 1, 1, 1, 1, 1, 1, ...   \n",
       "\n",
       "                                      input_type_ids  \n",
       "0  [0, 0, 0, 0, 0, 0, 0, 0, 0, 0, 0, 0, 0, 0, 0, ...  \n",
       "1  [0, 0, 0, 0, 0, 0, 0, 0, 0, 0, 0, 0, 0, 0, 0, ...  \n",
       "2  [0, 0, 0, 0, 0, 0, 0, 0, 0, 0, 0, 0, 0, 0, 0, ...  \n",
       "3  [0, 0, 0, 0, 0, 0, 0, 0, 0, 0, 0, 0, 0, 0, 0, ...  \n",
       "4  [0, 0, 0, 0, 0, 0, 0, 0, 0, 0, 0, 0, 0, 0, 0, ...  "
      ]
     },
     "execution_count": 4,
     "metadata": {},
     "output_type": "execute_result"
    }
   ],
   "source": [
    "# Load data from file\n",
    "data = pd.read_json(file_path, lines=True)\n",
    "data.head()"
   ]
  },
  {
   "cell_type": "code",
   "execution_count": 26,
   "id": "9da2bc8c-c36e-4075-8507-c68a442f1553",
   "metadata": {},
   "outputs": [],
   "source": [
    "data_sampled = data.sample(n=100000, random_state=1)"
   ]
  },
  {
   "cell_type": "code",
   "execution_count": 33,
   "id": "482b19e1-a41a-441c-a615-01c46fb18632",
   "metadata": {},
   "outputs": [],
   "source": [
    "# Train/dev/test split\n",
    "X_train, X_test, y_train, y_test = train_test_split(\n",
    "    data_sampled[[\"input_word_ids\", \"input_mask\", \"input_type_ids\"]],\n",
    "    data_sampled[\"y\"].tolist(), \n",
    "    test_size=0.1,\n",
    "    random_state=1\n",
    ")\n",
    "\n",
    "X_dev, X_test, y_dev, y_test = train_test_split(X_test, y_test, test_size=0.5, random_state=1)"
   ]
  },
  {
   "cell_type": "code",
   "execution_count": 44,
   "id": "e628dbfb-c43b-4ee7-947b-55a350b189ea",
   "metadata": {},
   "outputs": [],
   "source": [
    "# Define the bert model\n",
    "def bert_regression_model(seq_length = 128, drop_out=0.2):\n",
    "    # Use BERT encoder to produce a representation of the input sequence\n",
    "    encoder_inputs = dict(\n",
    "        input_word_ids=layers.Input(shape=(seq_length,), dtype=tf.int32, name=\"input_word_ids\"),\n",
    "        input_mask=layers.Input(shape=(seq_length,), dtype=tf.int32, name=\"input_mask\"),\n",
    "        input_type_ids=layers.Input(shape=(seq_length,), dtype=tf.int32, name=\"input_type_ids\")\n",
    "    )\n",
    "    \n",
    "    encoder = hub.KerasLayer(\n",
    "        \"https://tfhub.dev/tensorflow/bert_en_uncased_L-12_H-768_A-12/4\",\n",
    "        trainable=True,\n",
    "        name=\"BERT\"\n",
    "    )\n",
    "    outputs = encoder(encoder_inputs)\n",
    "    pooled_output = outputs[\"pooled_output\"]\n",
    "    \n",
    "    # Add a regressor to predict customer feedback\n",
    "    X = layers.Dense(32, activation=\"relu\")(pooled_output)\n",
    "    prediction = layers.Dense(1, activation='sigmoid', name=\"output_regression\")(X)\n",
    "    \n",
    "    return Model(inputs=encoder_inputs, outputs=prediction) "
   ]
  },
  {
   "cell_type": "code",
   "execution_count": 45,
   "id": "6410337f-9d30-43e8-82b3-df316d9fb2dc",
   "metadata": {},
   "outputs": [
    {
     "name": "stdout",
     "output_type": "stream",
     "text": [
      "Model: \"model_2\"\n",
      "__________________________________________________________________________________________________\n",
      " Layer (type)                   Output Shape         Param #     Connected to                     \n",
      "==================================================================================================\n",
      " input_mask (InputLayer)        [(None, 128)]        0           []                               \n",
      "                                                                                                  \n",
      " input_type_ids (InputLayer)    [(None, 128)]        0           []                               \n",
      "                                                                                                  \n",
      " input_word_ids (InputLayer)    [(None, 128)]        0           []                               \n",
      "                                                                                                  \n",
      " BERT (KerasLayer)              {'sequence_output':  109482241   ['input_mask[0][0]',             \n",
      "                                 (None, 128, 768),                'input_type_ids[0][0]',         \n",
      "                                 'pooled_output': (               'input_word_ids[0][0]']         \n",
      "                                None, 768),                                                       \n",
      "                                 'default': (None,                                                \n",
      "                                768),                                                             \n",
      "                                 'encoder_outputs':                                               \n",
      "                                 [(None, 128, 768),                                               \n",
      "                                 (None, 128, 768),                                                \n",
      "                                 (None, 128, 768),                                                \n",
      "                                 (None, 128, 768),                                                \n",
      "                                 (None, 128, 768),                                                \n",
      "                                 (None, 128, 768),                                                \n",
      "                                 (None, 128, 768),                                                \n",
      "                                 (None, 128, 768),                                                \n",
      "                                 (None, 128, 768),                                                \n",
      "                                 (None, 128, 768),                                                \n",
      "                                 (None, 128, 768),                                                \n",
      "                                 (None, 128, 768)]}                                               \n",
      "                                                                                                  \n",
      " dense (Dense)                  (None, 32)           24608       ['BERT[0][13]']                  \n",
      "                                                                                                  \n",
      " output_regression (Dense)      (None, 1)            33          ['dense[0][0]']                  \n",
      "                                                                                                  \n",
      "==================================================================================================\n",
      "Total params: 109,506,882\n",
      "Trainable params: 109,506,881\n",
      "Non-trainable params: 1\n",
      "__________________________________________________________________________________________________\n"
     ]
    }
   ],
   "source": [
    "# Load bert model\n",
    "bert_model = bert_regression_model()\n",
    "bert_model.summary()"
   ]
  },
  {
   "cell_type": "code",
   "execution_count": 46,
   "id": "0f2392f4-92e4-4f8b-ad79-e53a79e49f0c",
   "metadata": {},
   "outputs": [],
   "source": [
    "# Compile the model\n",
    "bert_model.compile(optimizer='adam', loss=\"mean_squared_error\", metrics=[metrics.MeanSquaredError(), metrics.RootMeanSquaredError()])"
   ]
  },
  {
   "cell_type": "code",
   "execution_count": 15,
   "id": "a9822dd5-7ada-4628-8250-1fa3ea7f352d",
   "metadata": {},
   "outputs": [],
   "source": [
    "class BERTDataGenerator(Sequence):\n",
    "    def __init__(self, x_set, y_set, batch_size=16):\n",
    "        self.x = x_set\n",
    "        self.y = y_set\n",
    "        self.batch_size = batch_size\n",
    "\n",
    "    def __len__(self):\n",
    "        return int(np.floor(len(self.x) / float(self.batch_size)))\n",
    "\n",
    "    def __getitem__(self, idx):\n",
    "        batch_x = self.x[idx * self.batch_size:(idx + 1) * self.batch_size]\n",
    "        batch_y = self.y[idx * self.batch_size:(idx + 1) * self.batch_size]\n",
    "        return self.__convert_to_dict(batch_x), batch_y\n",
    "    \n",
    "    def __convert_to_dict(self, dataset):\n",
    "        return dict(\n",
    "            input_word_ids=np.array(dataset[\"input_word_ids\"].values.tolist()),\n",
    "            input_mask=np.array(dataset[\"input_mask\"].values.tolist()),\n",
    "            input_type_ids=np.array(dataset[\"input_type_ids\"].values.tolist())\n",
    "        )\n"
   ]
  },
  {
   "cell_type": "code",
   "execution_count": null,
   "id": "211fdcfe-3039-4a0c-91a3-adb34d3cc52a",
   "metadata": {},
   "outputs": [],
   "source": [
    "train_gen = BERTDataGenerator(X_train, np.asarray(y_train))\n",
    "dev_gen = BERTDataGenerator(X_dev, np.asarray(y_dev))\n",
    "test_gen = BERTDataGenerator(X_test, np.asarray(y_test))\n",
    "\n",
    "history = bert_model.fit(\n",
    "    train_gen,\n",
    "    epochs=3,\n",
    "    validation_data=dev_gen\n",
    ")"
   ]
  },
  {
   "cell_type": "code",
   "execution_count": 19,
   "id": "2a6c1223-05d1-4285-a0cb-d4405e78f9d2",
   "metadata": {},
   "outputs": [],
   "source": [
    "def convert_to_dict(dataset):\n",
    "    return dict(\n",
    "        input_word_ids=np.array(dataset[\"input_word_ids\"].values.tolist()),\n",
    "        input_mask=np.array(dataset[\"input_mask\"].values.tolist()),\n",
    "        input_type_ids=np.array(dataset[\"input_type_ids\"].values.tolist())\n",
    "    )"
   ]
  },
  {
   "cell_type": "code",
   "execution_count": 47,
   "id": "7d4e4daf-b7e5-46f2-8bd2-a76ae6380d49",
   "metadata": {},
   "outputs": [
    {
     "name": "stdout",
     "output_type": "stream",
     "text": [
      "Epoch 1/3\n",
      "5625/5625 [==============================] - 3298s 583ms/step - loss: 0.0501 - mean_squared_error: 0.0501 - root_mean_squared_error: 0.2237 - val_loss: 0.0508 - val_mean_squared_error: 0.0508 - val_root_mean_squared_error: 0.2254\n",
      "Epoch 2/3\n",
      "5625/5625 [==============================] - 2436s 433ms/step - loss: 0.0493 - mean_squared_error: 0.0493 - root_mean_squared_error: 0.2221 - val_loss: 0.0508 - val_mean_squared_error: 0.0508 - val_root_mean_squared_error: 0.2254\n",
      "Epoch 3/3\n",
      "5625/5625 [==============================] - 2870s 510ms/step - loss: 0.0493 - mean_squared_error: 0.0493 - root_mean_squared_error: 0.2221 - val_loss: 0.0508 - val_mean_squared_error: 0.0508 - val_root_mean_squared_error: 0.2254\n"
     ]
    }
   ],
   "source": [
    "history = bert_model.fit(\n",
    "    x=convert_to_dict(X_train),\n",
    "    y=np.asarray(y_train),\n",
    "    batch_size=16,\n",
    "    epochs=3,\n",
    "    validation_data=(\n",
    "        convert_to_dict(X_dev),\n",
    "        np.asarray(y_dev)\n",
    "    )\n",
    ")"
   ]
  },
  {
   "cell_type": "code",
   "execution_count": 35,
   "id": "6915e6c2-2a30-43f3-a254-eacb5fc6f9c0",
   "metadata": {},
   "outputs": [],
   "source": [
    "# Function to summarize history for loss\n",
    "def summarize_history(history):\n",
    "    plt.plot(history.history['loss'])\n",
    "    plt.plot(history.history['val_loss'])\n",
    "    plt.title('model loss')\n",
    "    plt.ylabel('loss')\n",
    "    plt.xlabel('epoch')\n",
    "    plt.legend(['train', 'test'], loc='upper left')\n",
    "    plt.show()"
   ]
  },
  {
   "cell_type": "code",
   "execution_count": 48,
   "id": "17b15d39-b53c-40fa-9b6f-76f7d709b8ed",
   "metadata": {},
   "outputs": [
    {
     "data": {
      "image/png": "[encoded data removed]",
      "text/plain": [
       "<Figure size 640x480 with 1 Axes>"
      ]
     },
     "metadata": {},
     "output_type": "display_data"
    }
   ],
   "source": [
    "summarize_history(history)"
   ]
  },
  {
   "cell_type": "code",
   "execution_count": 39,
   "id": "ffa0ced2-6398-42fa-84d9-0e49652c574d",
   "metadata": {},
   "outputs": [],
   "source": [
    "# Function to make predictions from test set and calculate mse, rmse, r2\n",
    "def evaluate_test(model, X_test, y_test):\n",
    "    prediction = model.predict(X_test)\n",
    "    mse = mean_squared_error(y_test, prediction)\n",
    "    rmse = np.sqrt(mse)\n",
    "    r2 = r2_score(y_test, prediction)\n",
    "    print(f\"mse = {mse}\")\n",
    "    print(f\"rmse = {rmse}\")\n",
    "    print(f\"r2 = {r2}\")"
   ]
  },
  {
   "cell_type": "code",
   "execution_count": 49,
   "id": "457d7738-7443-4d3f-8cc4-6299ea24590c",
   "metadata": {},
   "outputs": [
    {
     "name": "stdout",
     "output_type": "stream",
     "text": [
      "157/157 [==============================] - 40s 252ms/step\n",
      "mse = 0.048215999999999995\n",
      "rmse = 0.2195814199790137\n",
      "r2 = -0.2365512485146306\n"
     ]
    }
   ],
   "source": [
    "evaluate_test(bert_model, convert_to_dict(X_test), np.asarray(y_test))"
   ]
  },
  {
   "cell_type": "code",
   "execution_count": 41,
   "id": "f429e940-f4fe-43ac-9636-0482d378e99f",
   "metadata": {},
   "outputs": [],
   "source": [
    "# Function to plot histograms\n",
    "def plot_histogram(model, X_test, y_test):\n",
    "    prediction = model.predict(X_test)\n",
    "    prediction = np.reshape(prediction, (prediction.shape[0],))\n",
    "    df = pd.DataFrame()\n",
    "    df[\"prediction\"] = prediction * 5\n",
    "    df[\"target\"] = y_test * 5\n",
    "    target_df = df.groupby(by=\"target\")\n",
    "    plt.style.use('ggplot')\n",
    "    plt.title('Histogram of predicted ratings')\n",
    "    for key in target_df.groups.keys():\n",
    "        plt.hist(target_df.get_group(key)['prediction'], bins=30, edgecolor='black', alpha=0.5, density=True)\n",
    "    plt.legend(list(range(1,6)))\n",
    "    plt.show()"
   ]
  },
  {
   "cell_type": "code",
   "execution_count": 50,
   "id": "3fdb4c19-b945-4250-b98c-a50e0ccccb67",
   "metadata": {},
   "outputs": [
    {
     "name": "stdout",
     "output_type": "stream",
     "text": [
      "157/157 [==============================] - 47s 299ms/step\n"
     ]
    },
    {
     "data": {
      "image/png": "[encoded data removed]",
      "text/plain": [
       "<Figure size 640x480 with 1 Axes>"
      ]
     },
     "metadata": {},
     "output_type": "display_data"
    }
   ],
   "source": [
    "plot_histogram(bert_model, convert_to_dict(X_test), np.asarray(y_test))"
   ]
  },
  {
   "cell_type": "code",
   "execution_count": null,
   "id": "f8a8a096-5f0d-4737-8fff-221726bfec9f",
   "metadata": {},
   "outputs": [],
   "source": []
  }
 ],
 "metadata": {
  "kernelspec": {
   "display_name": "Python 3 (ipykernel)",
   "language": "python",
   "name": "python3"
  },
  "language_info": {
   "codemirror_mode": {
    "name": "ipython",
    "version": 3
   },
   "file_extension": ".py",
   "mimetype": "text/x-python",
   "name": "python",
   "nbconvert_exporter": "python",
   "pygments_lexer": "ipython3",
   "version": "3.9.16"
  }
 },
 "nbformat": 4,
 "nbformat_minor": 5
}
