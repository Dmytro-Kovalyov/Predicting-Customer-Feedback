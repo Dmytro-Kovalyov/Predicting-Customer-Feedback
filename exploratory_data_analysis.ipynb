{
 "cells": [
  {
   "cell_type": "code",
   "execution_count": 2,
   "id": "8a601b71-957c-4497-bec5-44cd93429ecb",
   "metadata": {},
   "outputs": [],
   "source": [
    "import pandas as pd\n",
    "import numpy as np\n",
    "import matplotlib.pyplot as plt\n",
    "import seaborn as sns\n",
    "import re\n",
    "\n",
    "# Gensim\n",
    "import gensim\n",
    "import gensim.corpora as corpora\n",
    "from gensim.utils import simple_preprocess\n",
    "from gensim.models import CoherenceModel\n",
    "from gensim.models import TfidfModel\n",
    "\n",
    "# spacy\n",
    "import spacy\n",
    "\n",
    "# vis\n",
    "import pyLDAvis\n",
    "import pyLDAvis.gensim"
   ]
  },
  {
   "cell_type": "code",
   "execution_count": 11,
   "id": "8e10033b-25f0-44a4-b7d5-ed34891b48b8",
   "metadata": {},
   "outputs": [],
   "source": [
    "# Load data\n",
    "data = pd.read_json(\"dataset_1M.json\", lines=True)"
   ]
  },
  {
   "cell_type": "code",
   "execution_count": 3,
   "id": "3bae8ce5-4493-45f6-b37f-55f26d58a8f2",
   "metadata": {},
   "outputs": [
    {
     "data": {
      "text/html": [
       "<div>\n",
       "<style scoped>\n",
       "    .dataframe tbody tr th:only-of-type {\n",
       "        vertical-align: middle;\n",
       "    }\n",
       "\n",
       "    .dataframe tbody tr th {\n",
       "        vertical-align: top;\n",
       "    }\n",
       "\n",
       "    .dataframe thead th {\n",
       "        text-align: right;\n",
       "    }\n",
       "</style>\n",
       "<table border=\"1\" class=\"dataframe\">\n",
       "  <thead>\n",
       "    <tr style=\"text-align: right;\">\n",
       "      <th></th>\n",
       "      <th>overall</th>\n",
       "      <th>verified</th>\n",
       "      <th>reviewTime</th>\n",
       "      <th>reviewerID</th>\n",
       "      <th>asin</th>\n",
       "      <th>style</th>\n",
       "      <th>reviewerName</th>\n",
       "      <th>reviewText</th>\n",
       "      <th>summary</th>\n",
       "      <th>unixReviewTime</th>\n",
       "      <th>vote</th>\n",
       "      <th>image</th>\n",
       "    </tr>\n",
       "  </thead>\n",
       "  <tbody>\n",
       "    <tr>\n",
       "      <th>0</th>\n",
       "      <td>4</td>\n",
       "      <td>False</td>\n",
       "      <td>05 1, 2015</td>\n",
       "      <td>A8WEXFRWX1ZHH</td>\n",
       "      <td>0209688726</td>\n",
       "      <td>{'Color:': ' AC'}</td>\n",
       "      <td>Goldengate</td>\n",
       "      <td>After I wrote the below review, the manufactur...</td>\n",
       "      <td>Works well if you place phone in horizontally ...</td>\n",
       "      <td>1430438400</td>\n",
       "      <td>None</td>\n",
       "      <td>None</td>\n",
       "    </tr>\n",
       "    <tr>\n",
       "      <th>1</th>\n",
       "      <td>1</td>\n",
       "      <td>True</td>\n",
       "      <td>04 19, 2018</td>\n",
       "      <td>ABCA1A8E4DGV1</td>\n",
       "      <td>0209688726</td>\n",
       "      <td>{'Color:': ' Blue'}</td>\n",
       "      <td>noe</td>\n",
       "      <td>It sucks barely picks up anything definitely n...</td>\n",
       "      <td>sucks</td>\n",
       "      <td>1524096000</td>\n",
       "      <td>None</td>\n",
       "      <td>None</td>\n",
       "    </tr>\n",
       "    <tr>\n",
       "      <th>2</th>\n",
       "      <td>1</td>\n",
       "      <td>True</td>\n",
       "      <td>04 16, 2018</td>\n",
       "      <td>A1NX8HM89FRQ32</td>\n",
       "      <td>0209688726</td>\n",
       "      <td>{'Color:': ' Black'}</td>\n",
       "      <td>Eduard</td>\n",
       "      <td>Well to write a short one, it blew 2 fuses of ...</td>\n",
       "      <td>Defective</td>\n",
       "      <td>1523836800</td>\n",
       "      <td>None</td>\n",
       "      <td>None</td>\n",
       "    </tr>\n",
       "    <tr>\n",
       "      <th>3</th>\n",
       "      <td>3</td>\n",
       "      <td>True</td>\n",
       "      <td>04 13, 2018</td>\n",
       "      <td>A1X77G023NY0KY</td>\n",
       "      <td>0209688726</td>\n",
       "      <td>{'Color:': ' CA'}</td>\n",
       "      <td>Lauren</td>\n",
       "      <td>I have absolutely no memory of buying this but...</td>\n",
       "      <td>Looks cool! Probably works</td>\n",
       "      <td>1523577600</td>\n",
       "      <td>None</td>\n",
       "      <td>None</td>\n",
       "    </tr>\n",
       "    <tr>\n",
       "      <th>4</th>\n",
       "      <td>5</td>\n",
       "      <td>True</td>\n",
       "      <td>04 8, 2018</td>\n",
       "      <td>A3GK37JO2MGW6Q</td>\n",
       "      <td>0209688726</td>\n",
       "      <td>{'Color:': ' Black'}</td>\n",
       "      <td>danny</td>\n",
       "      <td>it ok it does it job</td>\n",
       "      <td>Five Stars</td>\n",
       "      <td>1523145600</td>\n",
       "      <td>None</td>\n",
       "      <td>None</td>\n",
       "    </tr>\n",
       "  </tbody>\n",
       "</table>\n",
       "</div>"
      ],
      "text/plain": [
       "   overall  verified   reviewTime      reviewerID        asin   \n",
       "0        4     False   05 1, 2015   A8WEXFRWX1ZHH  0209688726  \\\n",
       "1        1      True  04 19, 2018   ABCA1A8E4DGV1  0209688726   \n",
       "2        1      True  04 16, 2018  A1NX8HM89FRQ32  0209688726   \n",
       "3        3      True  04 13, 2018  A1X77G023NY0KY  0209688726   \n",
       "4        5      True   04 8, 2018  A3GK37JO2MGW6Q  0209688726   \n",
       "\n",
       "                  style reviewerName   \n",
       "0     {'Color:': ' AC'}   Goldengate  \\\n",
       "1   {'Color:': ' Blue'}          noe   \n",
       "2  {'Color:': ' Black'}       Eduard   \n",
       "3     {'Color:': ' CA'}       Lauren   \n",
       "4  {'Color:': ' Black'}        danny   \n",
       "\n",
       "                                          reviewText   \n",
       "0  After I wrote the below review, the manufactur...  \\\n",
       "1  It sucks barely picks up anything definitely n...   \n",
       "2  Well to write a short one, it blew 2 fuses of ...   \n",
       "3  I have absolutely no memory of buying this but...   \n",
       "4                               it ok it does it job   \n",
       "\n",
       "                                             summary  unixReviewTime  vote   \n",
       "0  Works well if you place phone in horizontally ...      1430438400  None  \\\n",
       "1                                              sucks      1524096000  None   \n",
       "2                                          Defective      1523836800  None   \n",
       "3                         Looks cool! Probably works      1523577600  None   \n",
       "4                                         Five Stars      1523145600  None   \n",
       "\n",
       "  image  \n",
       "0  None  \n",
       "1  None  \n",
       "2  None  \n",
       "3  None  \n",
       "4  None  "
      ]
     },
     "execution_count": 3,
     "metadata": {},
     "output_type": "execute_result"
    }
   ],
   "source": [
    "# View some samples\n",
    "data.head()"
   ]
  },
  {
   "cell_type": "code",
   "execution_count": 4,
   "id": "341ed82f-0be0-461d-8800-b9c75e5fe48d",
   "metadata": {},
   "outputs": [
    {
     "data": {
      "text/plain": [
       "overall           1000000\n",
       "verified          1000000\n",
       "reviewTime        1000000\n",
       "reviewerID        1000000\n",
       "asin              1000000\n",
       "style              358331\n",
       "reviewerName       999917\n",
       "reviewText         999636\n",
       "summary            999862\n",
       "unixReviewTime    1000000\n",
       "vote               121947\n",
       "image               16345\n",
       "dtype: int64"
      ]
     },
     "execution_count": 4,
     "metadata": {},
     "output_type": "execute_result"
    }
   ],
   "source": [
    "# Calculate counts for each column\n",
    "data.count()"
   ]
  },
  {
   "cell_type": "code",
   "execution_count": 5,
   "id": "cbbb1772-7395-43c1-82a0-3ab7bdfa25fb",
   "metadata": {},
   "outputs": [
    {
     "data": {
      "image/png": "[encoded data removed]",
      "text/plain": [
       "<Figure size 640x480 with 1 Axes>"
      ]
     },
     "metadata": {},
     "output_type": "display_data"
    }
   ],
   "source": [
    "# Plot frequencies of ratings\n",
    "sns.countplot(x='overall', data=data)\n",
    "plt.title('Distribution of Ratings')\n",
    "plt.show()"
   ]
  },
  {
   "cell_type": "code",
   "execution_count": 12,
   "id": "4fd068a6-ad82-4baa-ab7e-81cf393f898b",
   "metadata": {},
   "outputs": [],
   "source": [
    "# Replace Nones with empty strings\n",
    "data.fillna(\"\", inplace=True)"
   ]
  },
  {
   "cell_type": "code",
   "execution_count": 7,
   "id": "f742ebff-f511-4154-857c-14f884f86132",
   "metadata": {},
   "outputs": [],
   "source": [
    "# Select reviewText from df\n",
    "reviews = data.reviewText.to_list()\n",
    "# Remove empty reviews\n",
    "reviews = [x for x in reviews if x]"
   ]
  },
  {
   "cell_type": "code",
   "execution_count": 8,
   "id": "507c69c0-dcad-4381-b0e5-3fd4df471550",
   "metadata": {},
   "outputs": [],
   "source": [
    "# Remove HTML from reviews\n",
    "CLEANR = re.compile('<.*?>')\n",
    "\n",
    "def cleanhtml(text):\n",
    "    cleantext = [re.sub(CLEANR, '', line) for line in text]\n",
    "    return cleantext\n",
    "\n",
    "cleaned_reviews = cleanhtml(reviews)"
   ]
  },
  {
   "cell_type": "code",
   "execution_count": 43,
   "id": "50c7a10c-de4e-438f-8952-4b18ca5f34c3",
   "metadata": {},
   "outputs": [
    {
     "name": "stdout",
     "output_type": "stream",
     "text": [
      "Wall time: 1h 22s\n"
     ]
    }
   ],
   "source": [
    "# Lemmatrize words\n",
    "def lemmatization(texts, allowed_postags=[\"NOUN\", \"ADJ\", \"VERB\", \"ADV\"]):\n",
    "    nlp = spacy.load(\"en_core_web_sm\", disable=[\"parser\", \"ner\"])\n",
    "    texts_out = []\n",
    "    for text in texts:\n",
    "        doc = nlp(text)\n",
    "        new_text = []\n",
    "        for token in doc:\n",
    "            if token.pos_ in allowed_postags:\n",
    "                new_text.append(token.lemma_)\n",
    "        final = \" \".join(new_text)\n",
    "        texts_out.append(final)\n",
    "    return (texts_out)\n",
    "\n",
    "%time lemmatized_texts = lemmatization(cleaned_reviews)"
   ]
  },
  {
   "cell_type": "code",
   "execution_count": 44,
   "id": "ccd17e57-a724-4326-a30d-981fc62eacd0",
   "metadata": {},
   "outputs": [],
   "source": [
    "# Save the list to a file\n",
    "with open('lemmatized_texts.txt', 'w') as file:\n",
    "    for item in lemmatized_texts:\n",
    "        file.write(item + '\\n')"
   ]
  },
  {
   "cell_type": "code",
   "execution_count": 1,
   "id": "ff3c64de-ea53-4a36-8583-a699cef4225c",
   "metadata": {},
   "outputs": [],
   "source": [
    "# Load the list from the file\n",
    "lemmatized_texts = []\n",
    "with open('lemmatized_texts.txt', 'r') as file:\n",
    "    for line in file:\n",
    "        lemmatized_texts.append(line.strip())"
   ]
  },
  {
   "cell_type": "code",
   "execution_count": 3,
   "id": "66086514-8b72-455b-b063-59b4b6410d97",
   "metadata": {},
   "outputs": [],
   "source": [
    "# Split texts into lists of words\n",
    "def gen_words(texts):\n",
    "    final = []\n",
    "    for text in texts:\n",
    "        new = gensim.utils.simple_preprocess(text, deacc=True)\n",
    "        final.append(new)\n",
    "    return (final)\n",
    "\n",
    "data_words = gen_words(lemmatized_texts)"
   ]
  },
  {
   "cell_type": "code",
   "execution_count": 4,
   "id": "6dcef5ec-1c97-4c58-85c9-e3c748bb7223",
   "metadata": {},
   "outputs": [],
   "source": [
    "# Add bigrams and trigrams\n",
    "bigram_phrases = gensim.models.Phrases(data_words, min_count=5, threshold=100)\n",
    "trigram_phrases = gensim.models.Phrases(bigram_phrases[data_words], threshold=100)\n",
    "\n",
    "bigram = gensim.models.phrases.Phraser(bigram_phrases)\n",
    "trigram = gensim.models.phrases.Phraser(trigram_phrases)\n",
    "\n",
    "def make_bigrams(texts):\n",
    "    return([bigram[doc] for doc in texts])\n",
    "\n",
    "def make_trigrams(texts):\n",
    "    return ([trigram[bigram[doc]] for doc in texts])\n",
    "\n",
    "data_bigrams = make_bigrams(data_words)\n",
    "data_bigrams_trigrams = make_trigrams(data_bigrams)"
   ]
  },
  {
   "cell_type": "code",
   "execution_count": 5,
   "id": "4fad6f0d-39dd-435d-8d87-46f86dbe6e3d",
   "metadata": {},
   "outputs": [],
   "source": [
    "# Remove words that are too frequent and don't have much value using TF-IDF\n",
    "id2word = corpora.Dictionary(data_bigrams_trigrams)\n",
    "\n",
    "texts = data_bigrams_trigrams\n",
    "\n",
    "corpus = [id2word.doc2bow(text) for text in texts]\n",
    "\n",
    "tfidf = TfidfModel(corpus, id2word=id2word)\n",
    "\n",
    "low_value = 0.03\n",
    "words  = []\n",
    "words_missing_in_tfidf = []\n",
    "for i in range(0, len(corpus)):\n",
    "    bow = corpus[i]\n",
    "    low_value_words = [] #reinitialize to be safe. You can skip this.\n",
    "    tfidf_ids = [id for id, value in tfidf[bow]]\n",
    "    bow_ids = [id for id, value in bow]\n",
    "    low_value_words = [id for id, value in tfidf[bow] if value < low_value]\n",
    "    drops = low_value_words+words_missing_in_tfidf\n",
    "    for item in drops:\n",
    "        words.append(id2word[item])\n",
    "    words_missing_in_tfidf = [id for id in bow_ids if id not in tfidf_ids] # The words with tf-idf socre 0 will be missing\n",
    "\n",
    "    new_bow = [b for b in bow if b[0] not in low_value_words and b[0] not in words_missing_in_tfidf]\n",
    "    corpus[i] = new_bow"
   ]
  },
  {
   "cell_type": "code",
   "execution_count": 22,
   "id": "bf121e53-c398-4847-ba8d-587db0dd5f74",
   "metadata": {},
   "outputs": [],
   "source": [
    "# Train LDA model\n",
    "lda_model = gensim.models.ldamodel.LdaModel(\n",
    "    corpus=corpus,\n",
    "    id2word=id2word,\n",
    "    num_topics=10,\n",
    "    random_state=100,\n",
    "    update_every=1,\n",
    "    chunksize=100,\n",
    "    passes=2,\n",
    "    alpha=\"auto\"\n",
    ")"
   ]
  },
  {
   "cell_type": "code",
   "execution_count": 23,
   "id": "a873e7e4-59dd-40f5-ae1c-315b6466c71f",
   "metadata": {},
   "outputs": [],
   "source": [
    "model_path = \"./model_weights/lda_model/lda_model\""
   ]
  },
  {
   "cell_type": "code",
   "execution_count": 24,
   "id": "ec0f3580-3553-42e8-b786-7bfc509795a7",
   "metadata": {},
   "outputs": [],
   "source": [
    "# Save LDA Model\n",
    "lda_model.save(model_path)"
   ]
  },
  {
   "cell_type": "code",
   "execution_count": null,
   "id": "7f427950-8014-44a0-a795-7aa9c28353ed",
   "metadata": {},
   "outputs": [],
   "source": [
    "# Load LDA Model\n",
    "lda_model = gensim.models.ldamodel.LdaModel.load(model_path)"
   ]
  },
  {
   "cell_type": "code",
   "execution_count": 25,
   "id": "8c2cbeb1-87b2-4d54-855a-2babc5c3adea",
   "metadata": {},
   "outputs": [],
   "source": [
    "# Visualize results of topic modeling\n",
    "pyLDAvis.enable_notebook()\n",
    "vis = pyLDAvis.gensim.prepare(lda_model, corpus, id2word, mds=\"mmds\", R=30)"
   ]
  },
  {
   "cell_type": "code",
   "execution_count": 26,
   "id": "00dc3c89-46fb-4629-b58f-1b4263279ec2",
   "metadata": {},
   "outputs": [
    {
     "data": {
      "text/html": [
       "\n",
       "<link rel=\"stylesheet\" type=\"text/css\" href=\"https://cdn.jsdelivr.net/gh/bmabey/pyLDAvis@3.4.0/pyLDAvis/js/ldavis.v1.0.0.css\">\n",
       "\n",
       "\n",
       "<div id=\"ldavis_el2235616168518405767144855910\" style=\"background-color:white;\"></div>\n",
       "<script type=\"text/javascript\">\n",
       "\n",
       "var ldavis_el2235616168518405767144855910_data = {\"mdsDat\": {\"x\": [0.01539566326157359, 0.05133562617999809, -0.3793569957330059, -0.23824281960223798, 0.3516164703447883, 0.41483494317517544, 0.09994084693123974, -0.2583866309606881, -0.45635142091631675, 0.39921431731947377], \"y\": [0.0763513306151969, -0.4310873450012065, -0.14152016438240614, 0.4016960850856034, -0.33250821153239085, -0.04305313631386657, 0.4623315839659907, -0.40508138854669157, 0.14295363139269152, 0.26991761471707904], \"topics\": [1, 2, 3, 4, 5, 6, 7, 8, 9, 10], \"cluster\": [1, 1, 1, 1, 1, 1, 1, 1, 1, 1], \"Freq\": [20.66568920425065, 18.150681893419904, 17.329943988614485, 8.236122275183119, 7.053981123528684, 6.795386333970316, 6.377884788537888, 5.448231193192835, 5.02549459082766, 4.916584608474445]}, \"tinfo\": {\"Term\": [\"great\", \"work\", \"good\", \"very\", \"use\", \"product\", \"car\", \"well\", \"light\", \"fit\", \"get\", \"time\", \"price\", \"so\", \"just\", \"look\", \"quality\", \"nice\", \"make\", \"battery\", \"buy\", \"easy\", \"bright\", \"take\", \"instal\", \"go\", \"put\", \"need\", \"perfect\", \"other\", \"buy\", \"need\", \"as\", \"one\", \"also\", \"keep\", \"long\", \"purchase\", \"small\", \"seem\", \"new\", \"still\", \"wire\", \"order\", \"year\", \"again\", \"old\", \"last\", \"find\", \"enough\", \"part\", \"right\", \"cheap\", \"run\", \"size\", \"plastic\", \"remove\", \"job\", \"big\", \"feel\", \"just\", \"use\", \"get\", \"bit\", \"light\", \"so\", \"go\", \"more\", \"only\", \"back\", \"see\", \"now\", \"then\", \"even\", \"thing\", \"say\", \"first\", \"think\", \"far\", \"try\", \"bulb\", \"water\", \"problem\", \"give\", \"about\", \"day\", \"bike\", \"month\", \"stuff\", \"few\", \"ride\", \"rain\", \"turn\", \"drive\", \"other\", \"really\", \"much\", \"like\", \"well\", \"fit\", \"look\", \"make\", \"easy\", \"install\", \"little\", \"too\", \"recommend\", \"hold\", \"bag\", \"replace\", \"sure\", \"issue\", \"perfectly\", \"high\", \"fine\", \"front\", \"end\", \"tire\", \"strap\", \"box\", \"low\", \"minute\", \"brand\", \"seat\", \"original\", \"lead\", \"road\", \"return\", \"come\", \"side\", \"way\", \"time\", \"take\", \"put\", \"perfect\", \"want\", \"know\", \"expect\", \"lot\", \"review\", \"switch\", \"never\", \"color\", \"thank\", \"read\", \"cut\", \"different\", \"many\", \"stick\", \"heavy\", \"trailer\", \"night\", \"own\", \"simple\", \"advertise\", \"cost\", \"area\", \"let\", \"provide\", \"gas\", \"relay\", \"great\", \"work\", \"cover\", \"oil\", \"fast\", \"change\", \"rear\", \"quick\", \"awesome\", \"black\", \"always\", \"white\", \"thick\", \"value\", \"bottle\", \"application\", \"fluid\", \"quickly\", \"warm\", \"ship\", \"gallon\", \"fill\", \"heat\", \"detail\", \"live\", \"noise\", \"travel\", \"call\", \"brake\", \"fantastic\", \"good\", \"very\", \"product\", \"price\", \"quality\", \"nice\", \"bright\", \"item\", \"happy\", \"describe\", \"hook\", \"arrive\", \"receive\", \"super\", \"window\", \"close\", \"seller\", \"send\", \"lift\", \"smooth\", \"outside\", \"liner\", \"while\", \"adjust\", \"satisfied\", \"strip\", \"glad\", \"safe\", \"deliver\", \"correctly\", \"car\", \"love\", \"clean\", \"set\", \"wash\", \"excellent\", \"leave\", \"dry\", \"tool\", \"paint\", \"hand\", \"material\", \"wax\", \"spot\", \"clay\", \"pad\", \"finish\", \"towel\", \"mirror\", \"amazing\", \"shine\", \"dirt\", \"scratch\", \"result\", \"leather\", \"soft\", \"surface\", \"suppose\", \"ramp\", \"wet\", \"clear\", \"instal\", \"mount\", \"top\", \"money\", \"mat\", \"large\", \"hole\", \"trip\", \"motorcycle\", \"bolt\", \"definitely\", \"screw\", \"exactly\", \"cap\", \"line\", \"rubber\", \"bottom\", \"wrong\", \"quite\", \"thin\", \"tighten\", \"blade\", \"model\", \"slide\", \"nut\", \"state\", \"can\", \"base\", \"note\", \"wrench\", \"vehicle\", \"less\", \"bad\", \"help\", \"mile\", \"filter\", \"factory\", \"check\", \"tank\", \"ever\", \"system\", \"deal\", \"fuel\", \"protect\", \"shock\", \"point\", \"fix\", \"complaint\", \"on\", \"display\", \"beat\", \"handy\", \"pump\", \"jack\", \"extremely\", \"sell\", \"delivery\", \"style\", \"guess\", \"level\", \"battery\", \"truck\", \"charge\", \"power\", \"spray\", \"cable\", \"extra\", \"wheel\", \"break\", \"led\", \"meter\", \"phone\", \"charger\", \"save\", \"voltage\", \"terminal\", \"wife\", \"spend\", \"current\", \"amp\", \"blue\", \"driver\", \"bucket\", \"shop\", \"least\", \"draw\", \"hood\", \"support\", \"hit\", \"holder\"], \"Freq\": [289533.0, 285885.0, 198665.0, 165757.0, 281246.0, 143972.0, 123053.0, 186226.0, 171128.0, 156803.0, 167201.0, 98119.0, 90522.0, 137545.0, 144952.0, 127942.0, 82365.0, 80374.0, 118986.0, 67940.0, 124855.0, 105246.0, 64614.0, 67313.0, 54488.0, 92384.0, 61464.0, 96606.0, 59059.0, 78901.0, 124854.7677748368, 96605.80457166318, 65229.81868031036, 62206.029670616364, 58505.902647912415, 58450.676772526305, 55137.58822094829, 49506.825706432275, 49088.31339117877, 48842.789568688364, 47024.302638030036, 45496.2851204758, 43893.22351253251, 42201.66595221072, 41043.032786832475, 40827.554438793006, 40524.85606024396, 40149.00261848842, 39628.738019750774, 38485.78046590494, 37134.55269405835, 36412.36765991954, 36069.26729824326, 34568.203215909576, 33800.47605625732, 33592.739405583554, 32056.89071042866, 31337.54584522923, 31202.102596240093, 30910.973680663497, 144947.3092936744, 279191.5629033009, 166540.58680065084, 33017.80569736623, 171127.48290919146, 137544.3328520012, 92384.00733064397, 78197.90600356185, 74986.08605752066, 59916.6680254864, 51272.57230483507, 51124.68823046826, 47222.63975719403, 46180.95442022699, 43669.672913464805, 43360.80052305108, 41171.07358817756, 39494.85420649794, 38870.67955675194, 37721.8142137554, 37089.19835990626, 36785.02975771001, 36770.87182089703, 36625.945078726356, 35986.465652713356, 32684.100694245913, 29647.400804224297, 29567.122042443472, 29274.113294223567, 29027.3681660089, 27267.190821863507, 26400.398501633263, 25835.748894614517, 25731.814386024675, 78897.064742584, 59464.737600844834, 60432.29752274623, 35098.35492598265, 186225.40691872087, 156802.1384841306, 127941.30153485737, 118985.17431157855, 105245.13342614986, 68717.86864879366, 68366.91869442243, 52634.24466451829, 50172.40910638672, 43782.913298694584, 41067.97856971615, 40672.30667469127, 38472.20507920442, 37486.12686325355, 34141.56101404602, 33384.208900365564, 32111.64846912763, 28727.485415692347, 27631.53107212015, 26854.558221364456, 24993.25061651412, 23240.803363165993, 22419.140531880785, 19031.27427275814, 18189.143066322915, 18119.71594971597, 17363.921544694243, 17200.733150881097, 17080.274053460547, 17005.79862681151, 67228.98264344818, 44479.10485135313, 47320.72673324582, 98118.71908695882, 67312.76537117934, 61463.99395928732, 59058.24581412378, 43807.04179884873, 36297.679218240984, 36022.93748525023, 33389.568379292614, 28050.719906169554, 25477.882950390616, 22117.06215869313, 21428.057567859458, 21405.724202653888, 20566.980797380842, 20300.184982249015, 19593.073578262396, 18508.702779653588, 16307.132760164726, 16220.818642465045, 15801.992429202814, 15260.78772205437, 15229.277455704541, 15204.639298832775, 15156.12640605375, 15150.515658203893, 14478.261421473773, 14419.34856905026, 14181.290666281244, 13275.453388767823, 13170.863395833092, 289532.24608422955, 285884.9518306574, 50166.78467501513, 28942.222798058196, 27763.6865550422, 23217.168286057808, 20999.353723767632, 20332.982658209738, 20200.75867138164, 16117.929333704877, 15413.481343651032, 15284.206451955466, 12614.69504025254, 12124.994795758346, 12066.719906708764, 11322.434811097895, 11003.40878110908, 10887.99474965858, 9366.15249837335, 9355.817656359239, 8838.146822587358, 8766.728833500456, 8692.460731185167, 8555.055183077995, 7732.737844740064, 7542.823810513142, 6920.958968333336, 6754.951043594617, 6740.151269287412, 6611.946513378333, 198664.7766292852, 165756.1890635849, 143971.56159901814, 90521.08212958259, 82364.54243929098, 80373.8360884302, 64613.74909889493, 28266.35152849078, 23805.58532647003, 16491.574193252298, 16252.554563461445, 14987.434410111096, 14065.458584988168, 13783.966967035569, 11691.083304273987, 11589.470483825637, 11142.23523946865, 9148.596366409907, 8099.228006466269, 7659.502242029807, 7007.234548227546, 6686.254137771658, 6046.470096157698, 5896.3883831792, 5746.592730058362, 5720.1569850791, 5606.352021059302, 5138.586941812923, 4747.972478615528, 4577.8366074252335, 123052.07396840722, 48189.84368222848, 39557.947113332186, 34552.99668417365, 29935.895577925676, 29296.63417506344, 25804.934740706183, 23357.913620992913, 21979.099275075518, 16572.937682006588, 15077.327917576198, 14421.92879829514, 13143.079719815083, 12602.827267692785, 11762.61355414763, 11661.67253683936, 11522.603633065071, 11383.975555490335, 11182.741975190533, 10486.877874626814, 10384.56937558119, 10314.026955667, 10069.647638935992, 10042.435059202238, 9633.696097545455, 9454.367795008482, 9288.983305878644, 8789.480173051712, 7681.519774404235, 7605.443502627702, 11491.406229959046, 54487.60767638543, 37691.582809190964, 29250.410682061425, 29062.70035213171, 24795.636231618388, 22330.188321819598, 21509.444689441403, 21143.185788081904, 20308.460994201138, 19600.99080665248, 18823.89614729924, 18557.10776679618, 17850.04123482896, 12478.744943894066, 12418.344264239384, 12111.504862409123, 11441.710943221535, 10598.03233462521, 10526.656067494258, 9904.149263844862, 9742.265027706828, 9674.807365084, 8997.002367917594, 8877.004824917589, 8674.926278458079, 8633.514885398627, 8406.666564623538, 7747.450693324441, 7727.027643073061, 7638.862973350438, 39649.53762131033, 27859.39282482039, 27060.806081973722, 23803.637598219633, 23755.482229303925, 20584.768074192616, 19147.337726528476, 18136.534354052317, 17920.613713251034, 16834.119887939396, 16289.791429810877, 15720.792129647822, 13703.165020719496, 12977.13047581211, 12691.720135429423, 12259.21638707681, 11865.369427206771, 10657.93109437773, 10166.404137542058, 9993.984674073134, 9408.634050440893, 9395.616014658066, 9250.335928084249, 9044.679492305566, 8946.176650386411, 8940.68349543713, 8169.0838104883, 7940.440906771911, 7594.631651406987, 7576.881249740625, 67939.67608946442, 34898.46471073919, 31659.733940184804, 26708.100200173605, 16596.09238212655, 16391.06409078596, 16121.835053205588, 15742.320067880826, 15422.065369041726, 14954.754329688867, 14955.54278480443, 14388.023830994294, 14317.931748131037, 13380.457038817216, 13274.132289573407, 10314.320669969651, 8991.322947350483, 8955.578334686466, 8761.547415297737, 8464.324278839327, 8216.229780631606, 7839.196063555516, 6593.214242396917, 6563.390927650772, 6266.161483551438, 6230.483889572244, 6038.567606803453, 5998.211714396069, 5981.079767417573, 5780.656053951864], \"Total\": [289533.0, 285885.0, 198665.0, 165757.0, 281246.0, 143972.0, 123053.0, 186226.0, 171128.0, 156803.0, 167201.0, 98119.0, 90522.0, 137545.0, 144952.0, 127942.0, 82365.0, 80374.0, 118986.0, 67940.0, 124855.0, 105246.0, 64614.0, 67313.0, 54488.0, 92384.0, 61464.0, 96606.0, 59059.0, 78901.0, 124855.70145979353, 96606.7382583511, 65230.762891732484, 62206.963355000174, 58506.83636559926, 58451.61047967808, 55138.521920710344, 49507.75941264719, 49089.24711122655, 48843.72327258866, 47025.23631000922, 45497.21881624269, 43894.15720062951, 42202.599658492516, 41043.96644909689, 40828.48810653007, 40525.789723998954, 40149.93630520641, 39629.6717091077, 38486.714187538666, 37135.486360244264, 36413.3013454985, 36070.200974060004, 34569.13691925716, 33801.409813922786, 33593.67310360751, 32057.824389807978, 31338.47952251432, 31203.036313811182, 30911.90738200584, 144952.96354941477, 281246.3257430221, 167201.7413813401, 33051.821388627264, 171128.422616204, 137545.2725633876, 92384.94704359527, 78198.84571397395, 74987.02579122211, 59917.60776453058, 51273.512029397774, 51125.62793341417, 47223.57947821027, 46181.894137670075, 43670.61263053712, 43361.74022571217, 41172.01330103547, 39495.79391705282, 38871.619261524414, 37722.75389461118, 37090.13805748714, 36785.96947502648, 36771.81152729857, 36626.88479387055, 35987.40537343328, 32685.040393423762, 29648.340551189423, 29568.06175187351, 29275.052994967133, 29028.307867430478, 27268.130618338582, 26401.338298841707, 25836.688592756065, 25732.754103531963, 78901.84695377795, 59619.13341091336, 60627.90891460112, 36366.86831114538, 186226.34388507463, 156803.07543110778, 127942.23848669, 118986.1112696758, 105246.0703599004, 68718.80558389066, 68367.85566740483, 52635.18163845781, 50173.34607512529, 43783.85026635171, 41068.915594093494, 40673.24362748939, 38473.14204526794, 37487.06384474498, 34142.49794012777, 33385.14590143619, 32112.585444156535, 28728.42239075601, 27632.468031510518, 26855.49512214011, 24994.187617494514, 23241.740376879814, 22420.07752805759, 19032.211238199376, 18190.080026141608, 18120.652869167567, 17364.85846439336, 17201.670141217077, 17081.211024900807, 17006.735601727592, 67235.47572192155, 44533.07861730452, 47597.56181703024, 98119.65579228749, 67313.70207235945, 61464.930670975955, 59059.18249759505, 43807.978503050734, 36298.61594039147, 36023.87420375902, 33390.50508047094, 28051.656619094447, 25478.81964032916, 22117.998857121765, 21428.994255477304, 21406.660878506027, 20567.91751498522, 20301.12170673394, 19594.010291790197, 18509.63948706801, 16308.069464800314, 16221.755402041474, 15802.929122002459, 15261.72445369217, 15230.214158166398, 15205.575996605836, 15157.063092730266, 15151.452342049863, 14479.19811294722, 14420.28527535578, 14182.227397559434, 13276.390108296955, 13171.800046937457, 289533.18256519444, 285885.88831323973, 50167.721278093995, 28943.15922061056, 27764.623036487563, 23218.104739551847, 21000.290317548766, 20333.91917121991, 20201.695187428897, 16118.865846459183, 15414.417874070401, 15285.142951409238, 12615.631641519107, 12125.93132888207, 12067.656397145287, 11323.371452856898, 11004.345204352805, 10888.931278795735, 9367.08908336733, 9356.754178306443, 8839.08335218272, 8767.665324358642, 8693.39725646992, 8555.99171391899, 7733.674385153641, 7543.76039129655, 6921.8955580515185, 6755.8876488140195, 6741.087679593089, 6612.883081691602, 198665.71913110086, 165757.13158148064, 143972.5041007899, 90522.02464896973, 82365.48496965924, 80374.77862511536, 64614.69160979982, 28267.29407107816, 23806.527838194364, 16492.51669705378, 16253.497240165609, 14988.376950326978, 14066.401146396332, 13784.909490133561, 11692.025802367529, 11590.4131050206, 11143.177787094255, 9149.538923075444, 8100.170587252591, 7660.4447940479995, 7008.177237704646, 6687.196871407783, 6047.412698535268, 5897.331046403591, 5747.535232260217, 5721.099541855598, 5607.294615941587, 5139.529586646763, 4748.915033352929, 4578.779332412422, 123053.01615581886, 48190.78593722443, 39558.88928245683, 34553.93903621355, 29936.83767443198, 29297.576443125636, 25805.87696231517, 23358.85578467784, 21980.041557053053, 16573.879817050583, 15078.27016749656, 14422.87111860667, 13144.021811451285, 12603.769545508892, 11763.55580882414, 11662.614673116264, 11523.545815847585, 11384.917609264105, 11183.684242739515, 10487.820106345443, 10385.51151553887, 10314.96911663601, 10070.589794825795, 10043.377272906124, 9634.63863051743, 9455.310014806957, 9289.92546739836, 8790.422454231282, 7682.462866234923, 7606.385754202936, 11570.855676345474, 54488.54374233393, 37692.51885269965, 29251.346767379386, 29063.636428739628, 24796.572289023818, 22331.124424755406, 21510.38069218868, 21144.12190572587, 20309.39712927391, 19601.926793847517, 18824.83223478424, 18558.04376184235, 17850.97728711572, 12479.680935519858, 12419.280312656056, 12112.440874113121, 11442.64700702872, 10598.968394702753, 10527.592161458268, 9905.08535409997, 9743.201091608598, 9675.743364968515, 8997.938431185805, 8877.940854904016, 8675.862288093345, 8634.450941917648, 8407.60264900358, 7748.386752565567, 7727.963733359918, 7639.799124159887, 39650.46130963155, 27860.316554613637, 27061.729796756503, 23804.561300584366, 23756.40590200819, 20585.691730675153, 19148.261426256635, 18137.458065603583, 17921.537402600345, 16835.043594564926, 16290.71509585746, 15721.715851801519, 13704.088637888513, 12978.054251177517, 12692.643989991828, 12260.14014417625, 11866.293117284458, 10658.854870190302, 10167.32787665493, 9994.908635885795, 9409.557778652477, 9396.539792593312, 9251.25954011334, 9045.603467068084, 8947.100400457222, 8941.607208704394, 8170.007512184563, 7941.364646614539, 7595.555388669483, 7577.804961380033, 67940.6247544934, 34899.41346724495, 31660.68261006056, 26709.04893513486, 16597.041153389506, 16392.01285726228, 16122.783855254076, 15743.268766641062, 15423.014103267344, 14955.703052922909, 14956.49170323356, 14388.972594857169, 14318.880397527613, 13381.405760850728, 13275.08099176177, 10315.269598404258, 8992.271712035621, 8956.527100753881, 8762.496232458503, 8465.272999313662, 8217.178558549194, 7840.1448090775775, 6594.1631078036535, 6564.339692642605, 6267.110259292481, 6231.4326535777345, 6039.5163458189545, 5999.160466725825, 5982.028538609137, 5781.60493126596], \"Category\": [\"Default\", \"Default\", \"Default\", \"Default\", \"Default\", \"Default\", \"Default\", \"Default\", \"Default\", \"Default\", \"Default\", \"Default\", \"Default\", \"Default\", \"Default\", \"Default\", \"Default\", \"Default\", \"Default\", \"Default\", \"Default\", \"Default\", \"Default\", \"Default\", \"Default\", \"Default\", \"Default\", \"Default\", \"Default\", \"Default\", \"Topic1\", \"Topic1\", \"Topic1\", \"Topic1\", \"Topic1\", \"Topic1\", \"Topic1\", \"Topic1\", \"Topic1\", \"Topic1\", \"Topic1\", \"Topic1\", \"Topic1\", \"Topic1\", \"Topic1\", \"Topic1\", \"Topic1\", \"Topic1\", \"Topic1\", \"Topic1\", \"Topic1\", \"Topic1\", \"Topic1\", \"Topic1\", \"Topic1\", \"Topic1\", \"Topic1\", \"Topic1\", \"Topic1\", \"Topic1\", \"Topic1\", \"Topic1\", \"Topic1\", \"Topic1\", \"Topic2\", \"Topic2\", \"Topic2\", \"Topic2\", \"Topic2\", \"Topic2\", \"Topic2\", \"Topic2\", \"Topic2\", \"Topic2\", \"Topic2\", \"Topic2\", \"Topic2\", \"Topic2\", \"Topic2\", \"Topic2\", \"Topic2\", \"Topic2\", \"Topic2\", \"Topic2\", \"Topic2\", \"Topic2\", \"Topic2\", \"Topic2\", \"Topic2\", \"Topic2\", \"Topic2\", \"Topic2\", \"Topic2\", \"Topic2\", \"Topic2\", \"Topic2\", \"Topic2\", \"Topic2\", \"Topic3\", \"Topic3\", \"Topic3\", \"Topic3\", \"Topic3\", \"Topic3\", \"Topic3\", \"Topic3\", \"Topic3\", \"Topic3\", \"Topic3\", \"Topic3\", \"Topic3\", \"Topic3\", \"Topic3\", \"Topic3\", \"Topic3\", \"Topic3\", \"Topic3\", \"Topic3\", \"Topic3\", \"Topic3\", \"Topic3\", \"Topic3\", \"Topic3\", \"Topic3\", \"Topic3\", \"Topic3\", \"Topic3\", \"Topic3\", \"Topic3\", \"Topic3\", \"Topic3\", \"Topic4\", \"Topic4\", \"Topic4\", \"Topic4\", \"Topic4\", \"Topic4\", \"Topic4\", \"Topic4\", \"Topic4\", \"Topic4\", \"Topic4\", \"Topic4\", \"Topic4\", \"Topic4\", \"Topic4\", \"Topic4\", \"Topic4\", \"Topic4\", \"Topic4\", \"Topic4\", \"Topic4\", \"Topic4\", \"Topic4\", \"Topic4\", \"Topic4\", \"Topic4\", \"Topic4\", \"Topic4\", \"Topic4\", \"Topic4\", \"Topic5\", \"Topic5\", \"Topic5\", \"Topic5\", \"Topic5\", \"Topic5\", \"Topic5\", \"Topic5\", \"Topic5\", \"Topic5\", \"Topic5\", \"Topic5\", \"Topic5\", \"Topic5\", \"Topic5\", \"Topic5\", \"Topic5\", \"Topic5\", \"Topic5\", \"Topic5\", \"Topic5\", \"Topic5\", \"Topic5\", \"Topic5\", \"Topic5\", \"Topic5\", \"Topic5\", \"Topic5\", \"Topic5\", \"Topic5\", \"Topic6\", \"Topic6\", \"Topic6\", \"Topic6\", \"Topic6\", \"Topic6\", \"Topic6\", \"Topic6\", \"Topic6\", \"Topic6\", \"Topic6\", \"Topic6\", \"Topic6\", \"Topic6\", \"Topic6\", \"Topic6\", \"Topic6\", \"Topic6\", \"Topic6\", \"Topic6\", \"Topic6\", \"Topic6\", \"Topic6\", \"Topic6\", \"Topic6\", \"Topic6\", \"Topic6\", \"Topic6\", \"Topic6\", \"Topic6\", \"Topic7\", \"Topic7\", \"Topic7\", \"Topic7\", \"Topic7\", \"Topic7\", \"Topic7\", \"Topic7\", \"Topic7\", \"Topic7\", \"Topic7\", \"Topic7\", \"Topic7\", \"Topic7\", \"Topic7\", \"Topic7\", \"Topic7\", \"Topic7\", \"Topic7\", \"Topic7\", \"Topic7\", \"Topic7\", \"Topic7\", \"Topic7\", \"Topic7\", \"Topic7\", \"Topic7\", \"Topic7\", \"Topic7\", \"Topic7\", \"Topic7\", \"Topic8\", \"Topic8\", \"Topic8\", \"Topic8\", \"Topic8\", \"Topic8\", \"Topic8\", \"Topic8\", \"Topic8\", \"Topic8\", \"Topic8\", \"Topic8\", \"Topic8\", \"Topic8\", \"Topic8\", \"Topic8\", \"Topic8\", \"Topic8\", \"Topic8\", \"Topic8\", \"Topic8\", \"Topic8\", \"Topic8\", \"Topic8\", \"Topic8\", \"Topic8\", \"Topic8\", \"Topic8\", \"Topic8\", \"Topic8\", \"Topic9\", \"Topic9\", \"Topic9\", \"Topic9\", \"Topic9\", \"Topic9\", \"Topic9\", \"Topic9\", \"Topic9\", \"Topic9\", \"Topic9\", \"Topic9\", \"Topic9\", \"Topic9\", \"Topic9\", \"Topic9\", \"Topic9\", \"Topic9\", \"Topic9\", \"Topic9\", \"Topic9\", \"Topic9\", \"Topic9\", \"Topic9\", \"Topic9\", \"Topic9\", \"Topic9\", \"Topic9\", \"Topic9\", \"Topic9\", \"Topic10\", \"Topic10\", \"Topic10\", \"Topic10\", \"Topic10\", \"Topic10\", \"Topic10\", \"Topic10\", \"Topic10\", \"Topic10\", \"Topic10\", \"Topic10\", \"Topic10\", \"Topic10\", \"Topic10\", \"Topic10\", \"Topic10\", \"Topic10\", \"Topic10\", \"Topic10\", \"Topic10\", \"Topic10\", \"Topic10\", \"Topic10\", \"Topic10\", \"Topic10\", \"Topic10\", \"Topic10\", \"Topic10\", \"Topic10\"], \"logprob\": [30.0, 29.0, 28.0, 27.0, 26.0, 25.0, 24.0, 23.0, 22.0, 21.0, 20.0, 19.0, 18.0, 17.0, 16.0, 15.0, 14.0, 13.0, 12.0, 11.0, 10.0, 9.0, 8.0, 7.0, 6.0, 5.0, 4.0, 3.0, 2.0, 1.0, -3.3499, -3.6064, -3.9992, -4.0466, -4.108, -4.1089, -4.1673, -4.275, -4.2835, -4.2885, -4.3264, -4.3595, -4.3953, -4.4346, -4.4625, -4.4677, -4.4752, -4.4845, -4.4975, -4.5268, -4.5625, -4.5822, -4.5916, -4.6342, -4.6566, -4.6628, -4.7096, -4.7323, -4.7366, -4.746, -3.2007, -2.5452, -3.0618, -4.68, -2.9049, -3.1234, -3.5214, -3.6881, -3.73, -3.9544, -4.1102, -4.1131, -4.1924, -4.2148, -4.2707, -4.2778, -4.3296, -4.3711, -4.3871, -4.4171, -4.434, -4.4422, -4.4426, -4.4466, -4.4642, -4.5604, -4.6579, -4.6607, -4.6706, -4.6791, -4.7416, -4.7739, -4.7956, -4.7996, -3.6792, -3.9619, -3.9458, -4.4892, -2.7741, -2.9461, -3.1495, -3.222, -3.3448, -3.771, -3.7762, -4.0377, -4.0856, -4.2218, -4.2858, -4.2955, -4.3511, -4.3771, -4.4705, -4.493, -4.5318, -4.6432, -4.6821, -4.7106, -4.7824, -4.8551, -4.8911, -5.055, -5.1002, -5.104, -5.1467, -5.1561, -5.1631, -5.1675, -3.7929, -4.206, -4.1441, -2.671, -3.0478, -3.1387, -3.1786, -3.4773, -3.6654, -3.673, -3.7489, -3.9231, -4.0193, -4.1608, -4.1924, -4.1935, -4.2335, -4.2465, -4.282, -4.3389, -4.4655, -4.4708, -4.497, -4.5319, -4.5339, -4.5355, -4.5387, -4.5391, -4.5845, -4.5886, -4.6052, -4.6712, -4.6791, -1.4339, -1.4466, -3.1868, -3.7369, -3.7785, -3.9573, -4.0577, -4.09, -4.0965, -4.3223, -4.367, -4.3754, -4.5673, -4.6069, -4.6118, -4.6754, -4.704, -4.7145, -4.8651, -4.8662, -4.9231, -4.9312, -4.9397, -4.9557, -5.0567, -5.0816, -5.1676, -5.1919, -5.1941, -5.2133, -1.7732, -1.9543, -2.0952, -2.5593, -2.6537, -2.6782, -2.8964, -3.7232, -3.8949, -4.262, -4.2766, -4.3576, -4.4211, -4.4413, -4.606, -4.6148, -4.6541, -4.8513, -4.9731, -5.0289, -5.1179, -5.1648, -5.2654, -5.2905, -5.3162, -5.3209, -5.341, -5.4281, -5.5071, -5.5436, -2.1888, -3.1263, -3.3237, -3.459, -3.6024, -3.624, -3.7509, -3.8505, -3.9114, -4.1937, -4.2883, -4.3327, -4.4256, -4.4675, -4.5365, -4.5451, -4.5571, -4.5692, -4.5871, -4.6513, -4.6611, -4.6679, -4.6919, -4.6946, -4.7362, -4.755, -4.7726, -4.8279, -4.9626, -4.9726, -4.5598, -2.8459, -3.2145, -3.468, -3.4744, -3.6332, -3.738, -3.7754, -3.7926, -3.8329, -3.8683, -3.9088, -3.923, -3.9619, -4.3199, -4.3247, -4.3497, -4.4066, -4.4832, -4.49, -4.5509, -4.5674, -4.5744, -4.647, -4.6604, -4.6835, -4.6883, -4.7149, -4.7965, -4.7992, -4.8107, -3.0831, -3.436, -3.465, -3.5933, -3.5953, -3.7386, -3.811, -3.8652, -3.8772, -3.9397, -3.9726, -4.0082, -4.1455, -4.1999, -4.2222, -4.2569, -4.2895, -4.3968, -4.444, -4.4612, -4.5215, -4.5229, -4.5385, -4.561, -4.5719, -4.5725, -4.6628, -4.6912, -4.7357, -4.738, -2.5226, -3.1888, -3.2862, -3.4563, -3.9321, -3.9445, -3.9611, -3.9849, -4.0054, -4.0362, -4.0361, -4.0748, -4.0797, -4.1474, -4.1554, -4.4077, -4.545, -4.5489, -4.5709, -4.6054, -4.6351, -4.6821, -4.8552, -4.8597, -4.9061, -4.9118, -4.9431, -4.9498, -4.9526, -4.9867], \"loglift\": [30.0, 29.0, 28.0, 27.0, 26.0, 25.0, 24.0, 23.0, 22.0, 21.0, 20.0, 19.0, 18.0, 17.0, 16.0, 15.0, 14.0, 13.0, 12.0, 11.0, 10.0, 9.0, 8.0, 7.0, 6.0, 5.0, 4.0, 3.0, 2.0, 1.0, 1.5767, 1.5767, 1.5767, 1.5767, 1.5767, 1.5767, 1.5767, 1.5767, 1.5767, 1.5767, 1.5767, 1.5767, 1.5767, 1.5767, 1.5767, 1.5767, 1.5767, 1.5767, 1.5767, 1.5767, 1.5767, 1.5767, 1.5767, 1.5767, 1.5767, 1.5767, 1.5767, 1.5767, 1.5767, 1.5767, 1.5767, 1.5694, 1.5727, 1.5757, 1.7065, 1.7065, 1.7065, 1.7065, 1.7064, 1.7064, 1.7064, 1.7064, 1.7064, 1.7064, 1.7064, 1.7064, 1.7064, 1.7064, 1.7064, 1.7064, 1.7064, 1.7064, 1.7064, 1.7064, 1.7064, 1.7064, 1.7064, 1.7064, 1.7064, 1.7064, 1.7064, 1.7064, 1.7064, 1.7064, 1.7064, 1.7039, 1.7032, 1.671, 1.7527, 1.7527, 1.7527, 1.7527, 1.7527, 1.7527, 1.7527, 1.7527, 1.7527, 1.7527, 1.7527, 1.7527, 1.7527, 1.7527, 1.7527, 1.7527, 1.7527, 1.7527, 1.7527, 1.7527, 1.7527, 1.7527, 1.7527, 1.7527, 1.7527, 1.7527, 1.7527, 1.7527, 1.7527, 1.7527, 1.7526, 1.7515, 1.7469, 2.4966, 2.4966, 2.4966, 2.4966, 2.4966, 2.4966, 2.4966, 2.4966, 2.4966, 2.4966, 2.4966, 2.4966, 2.4966, 2.4966, 2.4966, 2.4966, 2.4966, 2.4966, 2.4966, 2.4966, 2.4966, 2.4966, 2.4966, 2.4966, 2.4966, 2.4966, 2.4966, 2.4966, 2.4966, 2.4966, 2.6516, 2.6516, 2.6516, 2.6515, 2.6515, 2.6515, 2.6515, 2.6515, 2.6515, 2.6515, 2.6515, 2.6515, 2.6515, 2.6515, 2.6515, 2.6515, 2.6515, 2.6515, 2.6515, 2.6515, 2.6515, 2.6515, 2.6515, 2.6515, 2.6515, 2.6515, 2.6514, 2.6514, 2.6514, 2.6514, 2.6889, 2.6889, 2.6889, 2.6889, 2.6889, 2.6889, 2.6889, 2.6889, 2.6889, 2.6889, 2.6889, 2.6889, 2.6889, 2.6889, 2.6888, 2.6888, 2.6888, 2.6888, 2.6888, 2.6888, 2.6888, 2.6888, 2.6888, 2.6888, 2.6888, 2.6888, 2.6888, 2.6887, 2.6887, 2.6887, 2.7523, 2.7523, 2.7523, 2.7523, 2.7523, 2.7523, 2.7523, 2.7523, 2.7523, 2.7523, 2.7523, 2.7523, 2.7523, 2.7523, 2.7523, 2.7523, 2.7523, 2.7523, 2.7522, 2.7522, 2.7522, 2.7522, 2.7522, 2.7522, 2.7522, 2.7522, 2.7522, 2.7522, 2.7522, 2.7522, 2.7454, 2.9099, 2.9099, 2.9098, 2.9098, 2.9098, 2.9098, 2.9098, 2.9098, 2.9098, 2.9098, 2.9098, 2.9098, 2.9098, 2.9098, 2.9098, 2.9098, 2.9098, 2.9098, 2.9098, 2.9098, 2.9098, 2.9098, 2.9098, 2.9098, 2.9098, 2.9098, 2.9098, 2.9098, 2.9098, 2.9098, 2.9906, 2.9906, 2.9906, 2.9906, 2.9906, 2.9906, 2.9906, 2.9906, 2.9906, 2.9906, 2.9906, 2.9906, 2.9906, 2.9906, 2.9906, 2.9906, 2.9906, 2.9906, 2.9906, 2.9906, 2.9905, 2.9905, 2.9905, 2.9905, 2.9905, 2.9905, 2.9905, 2.9905, 2.9905, 2.9905, 3.0125, 3.0125, 3.0125, 3.0125, 3.0125, 3.0125, 3.0125, 3.0125, 3.0125, 3.0125, 3.0125, 3.0125, 3.0125, 3.0125, 3.0125, 3.0125, 3.0125, 3.0125, 3.0124, 3.0124, 3.0124, 3.0124, 3.0124, 3.0124, 3.0124, 3.0124, 3.0124, 3.0124, 3.0124, 3.0124]}, \"token.table\": {\"Topic\": [2, 6, 4, 1, 1, 5, 7, 10, 5, 4, 6, 1, 5, 2, 9, 3, 8, 10, 9, 1, 2, 1, 3, 5, 8, 10, 8, 5, 8, 3, 5, 3, 10, 6, 10, 2, 1, 10, 5, 8, 8, 7, 5, 10, 10, 1, 9, 7, 7, 2, 7, 6, 4, 1, 3, 9, 6, 4, 5, 10, 4, 2, 9, 8, 6, 9, 6, 5, 4, 7, 9, 10, 2, 10, 7, 3, 3, 1, 2, 9, 8, 7, 4, 10, 9, 9, 5, 2, 5, 1, 2, 5, 9, 1, 3, 7, 2, 3, 9, 5, 3, 9, 5, 4, 1, 2, 2, 6, 2, 6, 5, 9, 7, 9, 6, 5, 4, 9, 3, 10, 3, 10, 8, 10, 6, 8, 3, 3, 6, 9, 1, 1, 2, 1, 4, 8, 1, 3, 10, 7, 7, 10, 9, 4, 9, 6, 2, 1, 2, 3, 8, 6, 3, 5, 1, 3, 4, 7, 3, 3, 4, 8, 7, 10, 9, 3, 7, 8, 8, 2, 2, 8, 8, 2, 3, 1, 4, 1, 6, 4, 5, 8, 2, 8, 5, 1, 9, 1, 2, 1, 3, 2, 3, 6, 4, 7, 7, 1, 4, 3, 10, 1, 9, 10, 6, 2, 6, 9, 4, 9, 1, 4, 6, 5, 5, 8, 2, 7, 4, 2, 3, 5, 6, 3, 4, 1, 3, 7, 3, 4, 2, 1, 3, 8, 1, 6, 6, 10, 2, 7, 8, 3, 2, 1, 9, 6, 6, 7, 7, 5, 9, 10, 3, 8, 4, 1, 8, 1, 6, 2, 7, 10, 7, 10, 8, 4, 1, 3, 6, 2, 9, 6, 10, 7, 3, 7, 4, 9, 4, 9, 10, 4, 2, 5, 8, 2, 2, 8, 4, 3, 3, 7, 8, 7, 4, 5, 8, 10, 2, 2, 1, 7, 5, 9, 6, 10, 4, 5, 7, 2, 7, 2, 3, 3, 7, 10, 6, 5, 10, 6, 1, 5, 8, 8, 1], \"Freq\": [0.99996094818677, 0.9997742968144203, 0.9999298615619818, 0.9999880449521227, 0.9999857048226974, 0.9999080163725945, 0.9999218039271147, 0.9998496209970116, 0.9998788829932315, 0.9999172528106961, 0.9999081321258771, 0.9999883047246627, 0.9999655876686364, 0.9999898566622859, 0.9999730321467998, 0.9999777059101695, 0.9998210269298822, 0.999990804404645, 0.9999407221183398, 0.9999667880458568, 0.9999547849503715, 0.9989767163440226, 0.0009984321170074732, 0.9999462836611812, 0.9999231723144697, 0.9998565738177896, 0.9999527192475891, 0.9999456069079459, 0.9999434565246729, 0.9999681445163827, 0.9998386492440409, 0.9999406255420507, 0.9999342474006343, 0.9999892964002057, 0.9998236155544474, 0.9999693164397131, 0.9999943818361089, 0.99993821031797, 0.9998686110752337, 0.9999283209460842, 0.9999454364640108, 0.9999917421299322, 0.999952419046936, 0.9999784398185924, 0.9999385149185431, 0.999966704536499, 0.999974744773941, 0.9999527516311247, 0.999977520034739, 0.0068274985195348374, 0.993098550480694, 0.9998780798399681, 0.9999536023265744, 8.923860410857108e-05, 0.9999036859358542, 0.9999197971826511, 0.9998297947212905, 0.9999701453009486, 0.9999856226658174, 0.9999433685966489, 0.9999447465637543, 0.9999681691253479, 0.9999544673235246, 0.9999557905869301, 0.9998073173879714, 0.9998766816085468, 0.9999686708182098, 0.9998840912950656, 0.9999484387435165, 0.9999060475484656, 0.9999090901258935, 0.9997700924237845, 0.9999706947989737, 0.9998539811310306, 0.9999633635874237, 0.9999898299300226, 0.9999830622617573, 0.9999814432706522, 0.9999806387830822, 0.9999380105813767, 0.9999452530189245, 0.9999803245457264, 0.9999757326556806, 0.9999513821396409, 0.9998770103823619, 0.9999341231964326, 0.9998664604105815, 0.9999840690576781, 0.9999775600595497, 0.9999706461980936, 0.9999549451026752, 0.9999241161319429, 0.999966397501517, 0.9999830503489247, 0.9999817690121042, 0.9999526347309841, 0.999975388596422, 0.9999931415177615, 0.9998910260119418, 0.999877756983462, 0.9999504883791854, 0.9999205610882067, 0.9998774361390705, 0.999895294708455, 0.9960482386374605, 0.00394732730979593, 0.999975843048746, 0.9997691193293275, 0.9999897489404327, 0.999996380195315, 0.9999959156142866, 0.9999268797815217, 0.9999157617231652, 0.9999425541097865, 0.9999778280059171, 0.9998392738271704, 0.9999534327806855, 0.9999764204608823, 0.9999656763088718, 0.9998280619019955, 0.999980580365899, 0.9998953696641069, 0.99993581274974, 0.9999145054356361, 0.9999694071892183, 0.9999900209787859, 0.9999882770970215, 0.999971621017069, 0.99995422019968, 0.9999332861461061, 0.9999846986030712, 0.9999588587272124, 3.4493948088860495e-05, 0.999989555810814, 0.9999830312981497, 0.9999496476427242, 0.9999766797835172, 0.9999610420841945, 0.9998228435041757, 0.9999337151561236, 0.9999660169535625, 0.9999529909814056, 0.9999527444488631, 0.9999108703239057, 0.9998937738059853, 0.9998554860987208, 0.9999916868502481, 0.030192316550487663, 0.9651092224854426, 0.004674584529674775, 0.9998969092714052, 0.9998210204618171, 0.9999874843609401, 0.9999127988689392, 0.999990534372483, 0.9999903199544994, 0.9999848735300733, 0.9999836911308014, 0.9999519391466759, 0.9999906605093322, 0.999965451133262, 0.9999769206397906, 0.9999396015814392, 0.9999671244270838, 0.9999408200881064, 0.999936358514299, 0.9999388177701852, 0.9998957059783214, 0.9999781022329677, 0.9999640912589259, 0.9999891850836643, 0.9999312077426514, 0.9999862345973302, 0.9967686677949413, 0.003216340518599642, 0.9999923581070594, 0.9999548396250394, 0.999973709648133, 0.9999903125690836, 0.9999525313345574, 0.9998992026181761, 0.9998752927170508, 0.9999877178346838, 0.999900610675376, 0.9999599483732331, 0.999980513050965, 0.9998693976754719, 0.9999845137111953, 0.9999863204172816, 0.9999857909584393, 0.9999505631217714, 0.999938569831188, 5.0695898187824025e-05, 0.999832019416074, 0.9999202796392888, 0.99994729542787, 0.9999469154440424, 0.9999869030867256, 0.9999799777520608, 0.9999854158260875, 0.9999324069282391, 0.9999799633816334, 0.9999070039850407, 0.9999607273498429, 0.9999886806666808, 0.9999779307228863, 0.9999964986315057, 0.9999187666227068, 0.9999134552334392, 0.9998638520400516, 0.9999846607348788, 0.999984858504422, 0.9999941119795577, 0.9999547961604367, 0.9999144747292557, 0.9999437514818977, 0.9999493094317206, 0.9999397502802184, 0.9999553909633996, 0.9974146989046113, 0.002583063375621124, 0.9999385571566272, 0.9999003905560669, 0.9999731715097638, 0.9999392606223443, 0.9999742842871071, 0.999969423941184, 0.9998628675525474, 0.9999567464477123, 0.9999765925020628, 0.9999585370059133, 0.9999642618095473, 0.9999291019296558, 0.9999636015467317, 0.9999671117257045, 0.9998969581480494, 0.9999068762106559, 0.9998949466987361, 0.999982929058928, 0.9999414339340782, 0.9999437569037047, 0.9999639709908754, 0.9999900137638811, 0.9999851921078043, 0.9999320917716221, 0.9998943041996854, 0.999941098335121, 0.9999728240472796, 0.9999507471983344, 0.999919397443593, 0.9999492627389269, 0.9997959135716108, 0.9987856528453996, 0.0011901265676118207, 0.9999621193826551, 0.9999582912686025, 0.9998940232966863, 0.999974595022333, 0.9999419362634994, 0.9999907480397988, 0.9998614519455306, 0.9999411489801848, 0.9999389432259838, 0.9999372687348376, 0.9999477741062307, 0.9999344211279807, 0.9999732111923674, 0.9999524842530316, 0.9998078093472149, 0.9999640309799844, 0.9998281596834719, 0.9999340227707544, 0.99980656181273, 0.9998381813571886, 0.9999703157785607, 0.9999003794592748, 0.99996783052195, 0.9999561040842435, 0.9999895701419201, 0.9999700135882167, 0.9998769204825771, 0.9999691274360921, 0.9999877290494141, 0.9999499318355946, 0.9998904245585808, 0.9999859715607311, 0.9999798986936562, 0.9998767251545663, 0.9999933164024863, 0.9999815634700512, 0.9999775504060017, 0.9999526135084709, 0.9999539587906808, 0.9999194013258947, 0.9999412057096956, 0.9998706195370896, 0.9999469400653821, 0.9999594988252087, 0.9999800148575237, 0.9999733482580946, 0.9926956352670749, 0.007303206520382289, 0.9999231952699705, 0.9999883655923206, 0.9999931732561378, 0.9999185698556234, 0.9999776638164058, 0.9998837329977717, 0.9999720186066047, 0.9999736455219118, 0.999922260365515, 0.0057986163463786536, 0.9941895801702328, 0.9999927835930911, 0.99981781699644, 0.9999194089448723, 0.9997663962084794, 0.9999252246830225, 0.9998585772231594, 0.9999122647875682, 0.9999736365679782, 0.9999968927698916, 0.9998953998466583, 0.9999086331172345, 0.9999764533211455], \"Term\": [\"about\", \"adjust\", \"advertise\", \"again\", \"also\", \"always\", \"amazing\", \"amp\", \"application\", \"area\", \"arrive\", \"as\", \"awesome\", \"back\", \"bad\", \"bag\", \"base\", \"battery\", \"beat\", \"big\", \"bike\", \"bit\", \"bit\", \"black\", \"blade\", \"blue\", \"bolt\", \"bottle\", \"bottom\", \"box\", \"brake\", \"brand\", \"break\", \"bright\", \"bucket\", \"bulb\", \"buy\", \"cable\", \"call\", \"can\", \"cap\", \"car\", \"change\", \"charge\", \"charger\", \"cheap\", \"check\", \"clay\", \"clean\", \"clear\", \"clear\", \"close\", \"color\", \"come\", \"come\", \"complaint\", \"correctly\", \"cost\", \"cover\", \"current\", \"cut\", \"day\", \"deal\", \"definitely\", \"deliver\", \"delivery\", \"describe\", \"detail\", \"different\", \"dirt\", \"display\", \"draw\", \"drive\", \"driver\", \"dry\", \"easy\", \"end\", \"enough\", \"even\", \"ever\", \"exactly\", \"excellent\", \"expect\", \"extra\", \"extremely\", \"factory\", \"fantastic\", \"far\", \"fast\", \"feel\", \"few\", \"fill\", \"filter\", \"find\", \"fine\", \"finish\", \"first\", \"fit\", \"fix\", \"fluid\", \"front\", \"fuel\", \"gallon\", \"gas\", \"get\", \"get\", \"give\", \"glad\", \"go\", \"good\", \"great\", \"guess\", \"hand\", \"handy\", \"happy\", \"heat\", \"heavy\", \"help\", \"high\", \"hit\", \"hold\", \"holder\", \"hole\", \"hood\", \"hook\", \"instal\", \"install\", \"issue\", \"item\", \"jack\", \"job\", \"just\", \"just\", \"keep\", \"know\", \"large\", \"last\", \"lead\", \"least\", \"leather\", \"leave\", \"led\", \"less\", \"let\", \"level\", \"lift\", \"light\", \"like\", \"like\", \"like\", \"line\", \"liner\", \"little\", \"live\", \"long\", \"look\", \"lot\", \"love\", \"low\", \"make\", \"many\", \"mat\", \"material\", \"meter\", \"mile\", \"minute\", \"mirror\", \"model\", \"money\", \"month\", \"more\", \"motorcycle\", \"mount\", \"much\", \"much\", \"need\", \"never\", \"new\", \"nice\", \"night\", \"noise\", \"note\", \"now\", \"nut\", \"oil\", \"old\", \"on\", \"one\", \"only\", \"order\", \"original\", \"other\", \"other\", \"outside\", \"own\", \"pad\", \"paint\", \"part\", \"perfect\", \"perfectly\", \"phone\", \"plastic\", \"point\", \"power\", \"price\", \"problem\", \"product\", \"protect\", \"provide\", \"pump\", \"purchase\", \"put\", \"quality\", \"quick\", \"quickly\", \"quite\", \"rain\", \"ramp\", \"read\", \"really\", \"really\", \"rear\", \"receive\", \"recommend\", \"relay\", \"remove\", \"replace\", \"result\", \"return\", \"review\", \"ride\", \"right\", \"road\", \"rubber\", \"run\", \"safe\", \"satisfied\", \"save\", \"say\", \"scratch\", \"screw\", \"seat\", \"see\", \"seem\", \"sell\", \"seller\", \"send\", \"set\", \"shine\", \"ship\", \"shock\", \"shop\", \"side\", \"side\", \"simple\", \"size\", \"slide\", \"small\", \"smooth\", \"so\", \"soft\", \"spend\", \"spot\", \"spray\", \"state\", \"stick\", \"still\", \"strap\", \"strip\", \"stuff\", \"style\", \"super\", \"support\", \"suppose\", \"sure\", \"surface\", \"switch\", \"system\", \"take\", \"tank\", \"terminal\", \"thank\", \"then\", \"thick\", \"thin\", \"thing\", \"think\", \"tighten\", \"time\", \"tire\", \"too\", \"tool\", \"top\", \"towel\", \"trailer\", \"travel\", \"trip\", \"truck\", \"try\", \"turn\", \"use\", \"use\", \"value\", \"vehicle\", \"very\", \"voltage\", \"want\", \"warm\", \"wash\", \"water\", \"wax\", \"way\", \"way\", \"well\", \"wet\", \"wheel\", \"while\", \"white\", \"wife\", \"window\", \"wire\", \"work\", \"wrench\", \"wrong\", \"year\"]}, \"R\": 30, \"lambda.step\": 0.01, \"plot.opts\": {\"xlab\": \"PC1\", \"ylab\": \"PC2\"}, \"topic.order\": [1, 4, 6, 9, 7, 8, 5, 3, 2, 10]};\n",
       "\n",
       "function LDAvis_load_lib(url, callback){\n",
       "  var s = document.createElement('script');\n",
       "  s.src = url;\n",
       "  s.async = true;\n",
       "  s.onreadystatechange = s.onload = callback;\n",
       "  s.onerror = function(){console.warn(\"failed to load library \" + url);};\n",
       "  document.getElementsByTagName(\"head\")[0].appendChild(s);\n",
       "}\n",
       "\n",
       "if(typeof(LDAvis) !== \"undefined\"){\n",
       "   // already loaded: just create the visualization\n",
       "   !function(LDAvis){\n",
       "       new LDAvis(\"#\" + \"ldavis_el2235616168518405767144855910\", ldavis_el2235616168518405767144855910_data);\n",
       "   }(LDAvis);\n",
       "}else if(typeof define === \"function\" && define.amd){\n",
       "   // require.js is available: use it to load d3/LDAvis\n",
       "   require.config({paths: {d3: \"https://d3js.org/d3.v5\"}});\n",
       "   require([\"d3\"], function(d3){\n",
       "      window.d3 = d3;\n",
       "      LDAvis_load_lib(\"https://cdn.jsdelivr.net/gh/bmabey/pyLDAvis@3.4.0/pyLDAvis/js/ldavis.v3.0.0.js\", function(){\n",
       "        new LDAvis(\"#\" + \"ldavis_el2235616168518405767144855910\", ldavis_el2235616168518405767144855910_data);\n",
       "      });\n",
       "    });\n",
       "}else{\n",
       "    // require.js not available: dynamically load d3 & LDAvis\n",
       "    LDAvis_load_lib(\"https://d3js.org/d3.v5.js\", function(){\n",
       "         LDAvis_load_lib(\"https://cdn.jsdelivr.net/gh/bmabey/pyLDAvis@3.4.0/pyLDAvis/js/ldavis.v3.0.0.js\", function(){\n",
       "                 new LDAvis(\"#\" + \"ldavis_el2235616168518405767144855910\", ldavis_el2235616168518405767144855910_data);\n",
       "            })\n",
       "         });\n",
       "}\n",
       "</script>"
      ],
      "text/plain": [
       "PreparedData(topic_coordinates=              x         y  topics  cluster       Freq\n",
       "topic                                                \n",
       "0      0.015396  0.076351       1        1  20.665689\n",
       "3      0.051336 -0.431087       2        1  18.150682\n",
       "5     -0.379357 -0.141520       3        1  17.329944\n",
       "8     -0.238243  0.401696       4        1   8.236122\n",
       "6      0.351616 -0.332508       5        1   7.053981\n",
       "7      0.414835 -0.043053       6        1   6.795386\n",
       "4      0.099941  0.462332       7        1   6.377885\n",
       "2     -0.258387 -0.405081       8        1   5.448231\n",
       "1     -0.456351  0.142954       9        1   5.025495\n",
       "9      0.399214  0.269918      10        1   4.916585, topic_info=         Term           Freq          Total Category  logprob  loglift\n",
       "148     great  289533.000000  289533.000000  Default  30.0000  30.0000\n",
       "118      work  285885.000000  285885.000000  Default  29.0000  29.0000\n",
       "43       good  198665.000000  198665.000000  Default  28.0000  28.0000\n",
       "177      very  165757.000000  165757.000000  Default  27.0000  27.0000\n",
       "110       use  281246.000000  281246.000000  Default  26.0000  26.0000\n",
       "...       ...            ...            ...      ...      ...      ...\n",
       "2154     draw    6230.483890    6231.432654  Topic10  -4.9118   3.0124\n",
       "1366     hood    6038.567607    6039.516346  Topic10  -4.9431   3.0124\n",
       "1325  support    5998.211714    5999.160467  Topic10  -4.9498   3.0124\n",
       "883       hit    5981.079767    5982.028539  Topic10  -4.9526   3.0124\n",
       "2979   holder    5780.656054    5781.604931  Topic10  -4.9867   3.0124\n",
       "\n",
       "[342 rows x 6 columns], token_table=      Topic      Freq       Term\n",
       "term                            \n",
       "1106      2  0.999961      about\n",
       "2731      6  0.999774     adjust\n",
       "373       4  0.999930  advertise\n",
       "2         1  0.999988      again\n",
       "4         1  0.999986       also\n",
       "...     ...       ...        ...\n",
       "1342      1  0.999974       wire\n",
       "118       5  0.999997       work\n",
       "820       8  0.999895     wrench\n",
       "1595      8  0.999909      wrong\n",
       "951       1  0.999976       year\n",
       "\n",
       "[325 rows x 3 columns], R=30, lambda_step=0.01, plot_opts={'xlab': 'PC1', 'ylab': 'PC2'}, topic_order=[1, 4, 6, 9, 7, 8, 5, 3, 2, 10])"
      ]
     },
     "execution_count": 26,
     "metadata": {},
     "output_type": "execute_result"
    }
   ],
   "source": [
    "vis"
   ]
  }
 ],
 "metadata": {
  "kernelspec": {
   "display_name": "Python 3 (ipykernel)",
   "language": "python",
   "name": "python3"
  },
  "language_info": {
   "codemirror_mode": {
    "name": "ipython",
    "version": 3
   },
   "file_extension": ".py",
   "mimetype": "text/x-python",
   "name": "python",
   "nbconvert_exporter": "python",
   "pygments_lexer": "ipython3",
   "version": "3.9.16"
  }
 },
 "nbformat": 4,
 "nbformat_minor": 5
}
